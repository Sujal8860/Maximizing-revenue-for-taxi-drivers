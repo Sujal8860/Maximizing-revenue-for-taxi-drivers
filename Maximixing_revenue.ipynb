{
 "cells": [
  {
   "cell_type": "markdown",
   "id": "50424a3d",
   "metadata": {},
   "source": [
    "# Maximizing Revenue for Taxi  Drivers through Payment Type Analysis\n",
    "\n",
    "## Problem Statement\n",
    "\n",
    "In the fast-paced taxi booking sector, making the most of revenue is essential for long-term success and driver happiness. Our goal is to use data-driven insights to maximize revenue streams for taxi drivers in order to meet this need. Our research aims to determine whether payment methods have an impact on fare pricing by focusing on the relationship between payment type and fare amount.\n",
    "\n",
    "## Objective\n",
    "\n",
    "This project's main goal is to run an A/B test to examine the relationship between the total fare and the method of payment. We use Python hypothesis testing and descriptive statistics to extract useful information that can help taxi drivers maximize their revenue. In particular, we want to find out if there is a big difference in the fares for those who pay with credit cards versus those who pay with cash.\n",
    "\n",
    "## Research Question\n",
    "\n",
    "Is there a relationship between total fare amount and payment type, and can we nudge customers towards payment methods that generate higher revenue for drivers without negatively impacting customer experience?"
   ]
  },
  {
   "cell_type": "markdown",
   "id": "c7b354e7",
   "metadata": {},
   "source": [
    "## Importing libraries"
   ]
  },
  {
   "cell_type": "code",
   "execution_count": 3,
   "id": "50721498",
   "metadata": {},
   "outputs": [],
   "source": [
    "#core libraries\n",
    "import pandas as pd #for data manupilation\n",
    "import numpy as np #for numerical operation\n",
    "#visualization\n",
    "import matplotlib.pyplot as plt #for basic plot\n",
    "import seaborn as sns #for advance visualization\n",
    "#statistcal ananlysis & hypothesis testing\n",
    "import scipy.stats as st #for hypothesis testing\n",
    "import statsmodels.api as sm  # for Q-Q plot\n",
    "from scipy.stats import mannwhitneyu  # import Mann-Whitney U test\n",
    "import statsmodels.formula.api as smf #for regression modeling\n",
    "#surprass warnings for clean output\n",
    "import warnings \n",
    "warnings.filterwarnings('ignore')"
   ]
  },
  {
   "cell_type": "code",
   "execution_count": 4,
   "id": "32b8c316",
   "metadata": {},
   "outputs": [
    {
     "data": {
      "text/html": [
       "<div>\n",
       "<style scoped>\n",
       "    .dataframe tbody tr th:only-of-type {\n",
       "        vertical-align: middle;\n",
       "    }\n",
       "\n",
       "    .dataframe tbody tr th {\n",
       "        vertical-align: top;\n",
       "    }\n",
       "\n",
       "    .dataframe thead th {\n",
       "        text-align: right;\n",
       "    }\n",
       "</style>\n",
       "<table border=\"1\" class=\"dataframe\">\n",
       "  <thead>\n",
       "    <tr style=\"text-align: right;\">\n",
       "      <th></th>\n",
       "      <th>VendorID</th>\n",
       "      <th>tpep_pickup_datetime</th>\n",
       "      <th>tpep_dropoff_datetime</th>\n",
       "      <th>passenger_count</th>\n",
       "      <th>trip_distance</th>\n",
       "      <th>RatecodeID</th>\n",
       "      <th>store_and_fwd_flag</th>\n",
       "      <th>PULocationID</th>\n",
       "      <th>DOLocationID</th>\n",
       "      <th>payment_type</th>\n",
       "      <th>fare_amount</th>\n",
       "      <th>extra</th>\n",
       "      <th>mta_tax</th>\n",
       "      <th>tip_amount</th>\n",
       "      <th>tolls_amount</th>\n",
       "      <th>improvement_surcharge</th>\n",
       "      <th>total_amount</th>\n",
       "      <th>congestion_surcharge</th>\n",
       "      <th>airport_fee</th>\n",
       "    </tr>\n",
       "  </thead>\n",
       "  <tbody>\n",
       "    <tr>\n",
       "      <th>0</th>\n",
       "      <td>2</td>\n",
       "      <td>2023-01-01 00:32:10</td>\n",
       "      <td>2023-01-01 00:40:36</td>\n",
       "      <td>1.0</td>\n",
       "      <td>0.97</td>\n",
       "      <td>1.0</td>\n",
       "      <td>N</td>\n",
       "      <td>161</td>\n",
       "      <td>141</td>\n",
       "      <td>2</td>\n",
       "      <td>9.30</td>\n",
       "      <td>1.00</td>\n",
       "      <td>0.5</td>\n",
       "      <td>0.00</td>\n",
       "      <td>0.0</td>\n",
       "      <td>1.0</td>\n",
       "      <td>14.30</td>\n",
       "      <td>2.5</td>\n",
       "      <td>0.00</td>\n",
       "    </tr>\n",
       "    <tr>\n",
       "      <th>1</th>\n",
       "      <td>2</td>\n",
       "      <td>2023-01-01 00:55:08</td>\n",
       "      <td>2023-01-01 01:01:27</td>\n",
       "      <td>1.0</td>\n",
       "      <td>1.10</td>\n",
       "      <td>1.0</td>\n",
       "      <td>N</td>\n",
       "      <td>43</td>\n",
       "      <td>237</td>\n",
       "      <td>1</td>\n",
       "      <td>7.90</td>\n",
       "      <td>1.00</td>\n",
       "      <td>0.5</td>\n",
       "      <td>4.00</td>\n",
       "      <td>0.0</td>\n",
       "      <td>1.0</td>\n",
       "      <td>16.90</td>\n",
       "      <td>2.5</td>\n",
       "      <td>0.00</td>\n",
       "    </tr>\n",
       "    <tr>\n",
       "      <th>2</th>\n",
       "      <td>2</td>\n",
       "      <td>2023-01-01 00:25:04</td>\n",
       "      <td>2023-01-01 00:37:49</td>\n",
       "      <td>1.0</td>\n",
       "      <td>2.51</td>\n",
       "      <td>1.0</td>\n",
       "      <td>N</td>\n",
       "      <td>48</td>\n",
       "      <td>238</td>\n",
       "      <td>1</td>\n",
       "      <td>14.90</td>\n",
       "      <td>1.00</td>\n",
       "      <td>0.5</td>\n",
       "      <td>15.00</td>\n",
       "      <td>0.0</td>\n",
       "      <td>1.0</td>\n",
       "      <td>34.90</td>\n",
       "      <td>2.5</td>\n",
       "      <td>0.00</td>\n",
       "    </tr>\n",
       "    <tr>\n",
       "      <th>3</th>\n",
       "      <td>1</td>\n",
       "      <td>2023-01-01 00:03:48</td>\n",
       "      <td>2023-01-01 00:13:25</td>\n",
       "      <td>0.0</td>\n",
       "      <td>1.90</td>\n",
       "      <td>1.0</td>\n",
       "      <td>N</td>\n",
       "      <td>138</td>\n",
       "      <td>7</td>\n",
       "      <td>1</td>\n",
       "      <td>12.10</td>\n",
       "      <td>7.25</td>\n",
       "      <td>0.5</td>\n",
       "      <td>0.00</td>\n",
       "      <td>0.0</td>\n",
       "      <td>1.0</td>\n",
       "      <td>20.85</td>\n",
       "      <td>0.0</td>\n",
       "      <td>1.25</td>\n",
       "    </tr>\n",
       "    <tr>\n",
       "      <th>4</th>\n",
       "      <td>2</td>\n",
       "      <td>2023-01-01 00:10:29</td>\n",
       "      <td>2023-01-01 00:21:19</td>\n",
       "      <td>1.0</td>\n",
       "      <td>1.43</td>\n",
       "      <td>1.0</td>\n",
       "      <td>N</td>\n",
       "      <td>107</td>\n",
       "      <td>79</td>\n",
       "      <td>1</td>\n",
       "      <td>11.40</td>\n",
       "      <td>1.00</td>\n",
       "      <td>0.5</td>\n",
       "      <td>3.28</td>\n",
       "      <td>0.0</td>\n",
       "      <td>1.0</td>\n",
       "      <td>19.68</td>\n",
       "      <td>2.5</td>\n",
       "      <td>0.00</td>\n",
       "    </tr>\n",
       "    <tr>\n",
       "      <th>...</th>\n",
       "      <td>...</td>\n",
       "      <td>...</td>\n",
       "      <td>...</td>\n",
       "      <td>...</td>\n",
       "      <td>...</td>\n",
       "      <td>...</td>\n",
       "      <td>...</td>\n",
       "      <td>...</td>\n",
       "      <td>...</td>\n",
       "      <td>...</td>\n",
       "      <td>...</td>\n",
       "      <td>...</td>\n",
       "      <td>...</td>\n",
       "      <td>...</td>\n",
       "      <td>...</td>\n",
       "      <td>...</td>\n",
       "      <td>...</td>\n",
       "      <td>...</td>\n",
       "      <td>...</td>\n",
       "    </tr>\n",
       "    <tr>\n",
       "      <th>3066761</th>\n",
       "      <td>2</td>\n",
       "      <td>2023-01-31 23:58:34</td>\n",
       "      <td>2023-02-01 00:12:33</td>\n",
       "      <td>NaN</td>\n",
       "      <td>3.05</td>\n",
       "      <td>NaN</td>\n",
       "      <td>None</td>\n",
       "      <td>107</td>\n",
       "      <td>48</td>\n",
       "      <td>0</td>\n",
       "      <td>15.80</td>\n",
       "      <td>0.00</td>\n",
       "      <td>0.5</td>\n",
       "      <td>3.96</td>\n",
       "      <td>0.0</td>\n",
       "      <td>1.0</td>\n",
       "      <td>23.76</td>\n",
       "      <td>NaN</td>\n",
       "      <td>NaN</td>\n",
       "    </tr>\n",
       "    <tr>\n",
       "      <th>3066762</th>\n",
       "      <td>2</td>\n",
       "      <td>2023-01-31 23:31:09</td>\n",
       "      <td>2023-01-31 23:50:36</td>\n",
       "      <td>NaN</td>\n",
       "      <td>5.80</td>\n",
       "      <td>NaN</td>\n",
       "      <td>None</td>\n",
       "      <td>112</td>\n",
       "      <td>75</td>\n",
       "      <td>0</td>\n",
       "      <td>22.43</td>\n",
       "      <td>0.00</td>\n",
       "      <td>0.5</td>\n",
       "      <td>2.64</td>\n",
       "      <td>0.0</td>\n",
       "      <td>1.0</td>\n",
       "      <td>29.07</td>\n",
       "      <td>NaN</td>\n",
       "      <td>NaN</td>\n",
       "    </tr>\n",
       "    <tr>\n",
       "      <th>3066763</th>\n",
       "      <td>2</td>\n",
       "      <td>2023-01-31 23:01:05</td>\n",
       "      <td>2023-01-31 23:25:36</td>\n",
       "      <td>NaN</td>\n",
       "      <td>4.67</td>\n",
       "      <td>NaN</td>\n",
       "      <td>None</td>\n",
       "      <td>114</td>\n",
       "      <td>239</td>\n",
       "      <td>0</td>\n",
       "      <td>17.61</td>\n",
       "      <td>0.00</td>\n",
       "      <td>0.5</td>\n",
       "      <td>5.32</td>\n",
       "      <td>0.0</td>\n",
       "      <td>1.0</td>\n",
       "      <td>26.93</td>\n",
       "      <td>NaN</td>\n",
       "      <td>NaN</td>\n",
       "    </tr>\n",
       "    <tr>\n",
       "      <th>3066764</th>\n",
       "      <td>2</td>\n",
       "      <td>2023-01-31 23:40:00</td>\n",
       "      <td>2023-01-31 23:53:00</td>\n",
       "      <td>NaN</td>\n",
       "      <td>3.15</td>\n",
       "      <td>NaN</td>\n",
       "      <td>None</td>\n",
       "      <td>230</td>\n",
       "      <td>79</td>\n",
       "      <td>0</td>\n",
       "      <td>18.15</td>\n",
       "      <td>0.00</td>\n",
       "      <td>0.5</td>\n",
       "      <td>4.43</td>\n",
       "      <td>0.0</td>\n",
       "      <td>1.0</td>\n",
       "      <td>26.58</td>\n",
       "      <td>NaN</td>\n",
       "      <td>NaN</td>\n",
       "    </tr>\n",
       "    <tr>\n",
       "      <th>3066765</th>\n",
       "      <td>2</td>\n",
       "      <td>2023-01-31 23:07:32</td>\n",
       "      <td>2023-01-31 23:21:56</td>\n",
       "      <td>NaN</td>\n",
       "      <td>2.85</td>\n",
       "      <td>NaN</td>\n",
       "      <td>None</td>\n",
       "      <td>262</td>\n",
       "      <td>143</td>\n",
       "      <td>0</td>\n",
       "      <td>15.97</td>\n",
       "      <td>0.00</td>\n",
       "      <td>0.5</td>\n",
       "      <td>2.00</td>\n",
       "      <td>0.0</td>\n",
       "      <td>1.0</td>\n",
       "      <td>21.97</td>\n",
       "      <td>NaN</td>\n",
       "      <td>NaN</td>\n",
       "    </tr>\n",
       "  </tbody>\n",
       "</table>\n",
       "<p>3066766 rows × 19 columns</p>\n",
       "</div>"
      ],
      "text/plain": [
       "         VendorID tpep_pickup_datetime tpep_dropoff_datetime  passenger_count  \\\n",
       "0               2  2023-01-01 00:32:10   2023-01-01 00:40:36              1.0   \n",
       "1               2  2023-01-01 00:55:08   2023-01-01 01:01:27              1.0   \n",
       "2               2  2023-01-01 00:25:04   2023-01-01 00:37:49              1.0   \n",
       "3               1  2023-01-01 00:03:48   2023-01-01 00:13:25              0.0   \n",
       "4               2  2023-01-01 00:10:29   2023-01-01 00:21:19              1.0   \n",
       "...           ...                  ...                   ...              ...   \n",
       "3066761         2  2023-01-31 23:58:34   2023-02-01 00:12:33              NaN   \n",
       "3066762         2  2023-01-31 23:31:09   2023-01-31 23:50:36              NaN   \n",
       "3066763         2  2023-01-31 23:01:05   2023-01-31 23:25:36              NaN   \n",
       "3066764         2  2023-01-31 23:40:00   2023-01-31 23:53:00              NaN   \n",
       "3066765         2  2023-01-31 23:07:32   2023-01-31 23:21:56              NaN   \n",
       "\n",
       "         trip_distance  RatecodeID store_and_fwd_flag  PULocationID  \\\n",
       "0                 0.97         1.0                  N           161   \n",
       "1                 1.10         1.0                  N            43   \n",
       "2                 2.51         1.0                  N            48   \n",
       "3                 1.90         1.0                  N           138   \n",
       "4                 1.43         1.0                  N           107   \n",
       "...                ...         ...                ...           ...   \n",
       "3066761           3.05         NaN               None           107   \n",
       "3066762           5.80         NaN               None           112   \n",
       "3066763           4.67         NaN               None           114   \n",
       "3066764           3.15         NaN               None           230   \n",
       "3066765           2.85         NaN               None           262   \n",
       "\n",
       "         DOLocationID  payment_type  fare_amount  extra  mta_tax  tip_amount  \\\n",
       "0                 141             2         9.30   1.00      0.5        0.00   \n",
       "1                 237             1         7.90   1.00      0.5        4.00   \n",
       "2                 238             1        14.90   1.00      0.5       15.00   \n",
       "3                   7             1        12.10   7.25      0.5        0.00   \n",
       "4                  79             1        11.40   1.00      0.5        3.28   \n",
       "...               ...           ...          ...    ...      ...         ...   \n",
       "3066761            48             0        15.80   0.00      0.5        3.96   \n",
       "3066762            75             0        22.43   0.00      0.5        2.64   \n",
       "3066763           239             0        17.61   0.00      0.5        5.32   \n",
       "3066764            79             0        18.15   0.00      0.5        4.43   \n",
       "3066765           143             0        15.97   0.00      0.5        2.00   \n",
       "\n",
       "         tolls_amount  improvement_surcharge  total_amount  \\\n",
       "0                 0.0                    1.0         14.30   \n",
       "1                 0.0                    1.0         16.90   \n",
       "2                 0.0                    1.0         34.90   \n",
       "3                 0.0                    1.0         20.85   \n",
       "4                 0.0                    1.0         19.68   \n",
       "...               ...                    ...           ...   \n",
       "3066761           0.0                    1.0         23.76   \n",
       "3066762           0.0                    1.0         29.07   \n",
       "3066763           0.0                    1.0         26.93   \n",
       "3066764           0.0                    1.0         26.58   \n",
       "3066765           0.0                    1.0         21.97   \n",
       "\n",
       "         congestion_surcharge  airport_fee  \n",
       "0                         2.5         0.00  \n",
       "1                         2.5         0.00  \n",
       "2                         2.5         0.00  \n",
       "3                         0.0         1.25  \n",
       "4                         2.5         0.00  \n",
       "...                       ...          ...  \n",
       "3066761                   NaN          NaN  \n",
       "3066762                   NaN          NaN  \n",
       "3066763                   NaN          NaN  \n",
       "3066764                   NaN          NaN  \n",
       "3066765                   NaN          NaN  \n",
       "\n",
       "[3066766 rows x 19 columns]"
      ]
     },
     "execution_count": 4,
     "metadata": {},
     "output_type": "execute_result"
    }
   ],
   "source": [
    "#loading the dataset\n",
    "df = pd.read_parquet(r\"C:\\Users\\ASUS 1\\Desktop\\yellow_tripdata_2023-01.parquet\")\n",
    "df"
   ]
  },
  {
   "cell_type": "markdown",
   "id": "c46fe607-d967-4cdc-902e-1c0ed444e872",
   "metadata": {},
   "source": [
    "## 📌 Exploratory Data Analysis: "
   ]
  },
  {
   "cell_type": "code",
   "execution_count": 6,
   "id": "537bc248",
   "metadata": {},
   "outputs": [
    {
     "name": "stdout",
     "output_type": "stream",
     "text": [
      "<class 'pandas.core.frame.DataFrame'>\n",
      "RangeIndex: 3066766 entries, 0 to 3066765\n",
      "Data columns (total 19 columns):\n",
      " #   Column                 Dtype         \n",
      "---  ------                 -----         \n",
      " 0   VendorID               int64         \n",
      " 1   tpep_pickup_datetime   datetime64[us]\n",
      " 2   tpep_dropoff_datetime  datetime64[us]\n",
      " 3   passenger_count        float64       \n",
      " 4   trip_distance          float64       \n",
      " 5   RatecodeID             float64       \n",
      " 6   store_and_fwd_flag     object        \n",
      " 7   PULocationID           int64         \n",
      " 8   DOLocationID           int64         \n",
      " 9   payment_type           int64         \n",
      " 10  fare_amount            float64       \n",
      " 11  extra                  float64       \n",
      " 12  mta_tax                float64       \n",
      " 13  tip_amount             float64       \n",
      " 14  tolls_amount           float64       \n",
      " 15  improvement_surcharge  float64       \n",
      " 16  total_amount           float64       \n",
      " 17  congestion_surcharge   float64       \n",
      " 18  airport_fee            float64       \n",
      "dtypes: datetime64[us](2), float64(12), int64(4), object(1)\n",
      "memory usage: 444.6+ MB\n"
     ]
    }
   ],
   "source": [
    "df.info() #overview of the data "
   ]
  },
  {
   "cell_type": "code",
   "execution_count": 7,
   "id": "5c2dd353-9ec9-4f96-b350-9d15e039b209",
   "metadata": {},
   "outputs": [
    {
     "data": {
      "text/plain": [
       "0           8.433333\n",
       "1           6.316667\n",
       "2          12.750000\n",
       "3           9.616667\n",
       "4          10.833333\n",
       "             ...    \n",
       "3066761    13.983333\n",
       "3066762    19.450000\n",
       "3066763    24.516667\n",
       "3066764    13.000000\n",
       "3066765    14.400000\n",
       "Name: Duration, Length: 3066766, dtype: float64"
      ]
     },
     "execution_count": 7,
     "metadata": {},
     "output_type": "execute_result"
    }
   ],
   "source": [
    "#making a column which can help in our analysis\n",
    "df['Duration']= (df['tpep_dropoff_datetime']-df['tpep_pickup_datetime']).dt.total_seconds()/60\n",
    "df['Duration']"
   ]
  },
  {
   "cell_type": "code",
   "execution_count": 8,
   "id": "6eae1889-9876-46b0-b649-4147f35d6d16",
   "metadata": {},
   "outputs": [
    {
     "data": {
      "text/html": [
       "<div>\n",
       "<style scoped>\n",
       "    .dataframe tbody tr th:only-of-type {\n",
       "        vertical-align: middle;\n",
       "    }\n",
       "\n",
       "    .dataframe tbody tr th {\n",
       "        vertical-align: top;\n",
       "    }\n",
       "\n",
       "    .dataframe thead th {\n",
       "        text-align: right;\n",
       "    }\n",
       "</style>\n",
       "<table border=\"1\" class=\"dataframe\">\n",
       "  <thead>\n",
       "    <tr style=\"text-align: right;\">\n",
       "      <th></th>\n",
       "      <th>passenger_count</th>\n",
       "      <th>trip_distance</th>\n",
       "      <th>payment_type</th>\n",
       "      <th>fare_amount</th>\n",
       "      <th>Duration</th>\n",
       "    </tr>\n",
       "  </thead>\n",
       "  <tbody>\n",
       "    <tr>\n",
       "      <th>0</th>\n",
       "      <td>1.0</td>\n",
       "      <td>0.97</td>\n",
       "      <td>2</td>\n",
       "      <td>9.30</td>\n",
       "      <td>8.433333</td>\n",
       "    </tr>\n",
       "    <tr>\n",
       "      <th>1</th>\n",
       "      <td>1.0</td>\n",
       "      <td>1.10</td>\n",
       "      <td>1</td>\n",
       "      <td>7.90</td>\n",
       "      <td>6.316667</td>\n",
       "    </tr>\n",
       "    <tr>\n",
       "      <th>2</th>\n",
       "      <td>1.0</td>\n",
       "      <td>2.51</td>\n",
       "      <td>1</td>\n",
       "      <td>14.90</td>\n",
       "      <td>12.750000</td>\n",
       "    </tr>\n",
       "    <tr>\n",
       "      <th>3</th>\n",
       "      <td>0.0</td>\n",
       "      <td>1.90</td>\n",
       "      <td>1</td>\n",
       "      <td>12.10</td>\n",
       "      <td>9.616667</td>\n",
       "    </tr>\n",
       "    <tr>\n",
       "      <th>4</th>\n",
       "      <td>1.0</td>\n",
       "      <td>1.43</td>\n",
       "      <td>1</td>\n",
       "      <td>11.40</td>\n",
       "      <td>10.833333</td>\n",
       "    </tr>\n",
       "    <tr>\n",
       "      <th>...</th>\n",
       "      <td>...</td>\n",
       "      <td>...</td>\n",
       "      <td>...</td>\n",
       "      <td>...</td>\n",
       "      <td>...</td>\n",
       "    </tr>\n",
       "    <tr>\n",
       "      <th>3066761</th>\n",
       "      <td>NaN</td>\n",
       "      <td>3.05</td>\n",
       "      <td>0</td>\n",
       "      <td>15.80</td>\n",
       "      <td>13.983333</td>\n",
       "    </tr>\n",
       "    <tr>\n",
       "      <th>3066762</th>\n",
       "      <td>NaN</td>\n",
       "      <td>5.80</td>\n",
       "      <td>0</td>\n",
       "      <td>22.43</td>\n",
       "      <td>19.450000</td>\n",
       "    </tr>\n",
       "    <tr>\n",
       "      <th>3066763</th>\n",
       "      <td>NaN</td>\n",
       "      <td>4.67</td>\n",
       "      <td>0</td>\n",
       "      <td>17.61</td>\n",
       "      <td>24.516667</td>\n",
       "    </tr>\n",
       "    <tr>\n",
       "      <th>3066764</th>\n",
       "      <td>NaN</td>\n",
       "      <td>3.15</td>\n",
       "      <td>0</td>\n",
       "      <td>18.15</td>\n",
       "      <td>13.000000</td>\n",
       "    </tr>\n",
       "    <tr>\n",
       "      <th>3066765</th>\n",
       "      <td>NaN</td>\n",
       "      <td>2.85</td>\n",
       "      <td>0</td>\n",
       "      <td>15.97</td>\n",
       "      <td>14.400000</td>\n",
       "    </tr>\n",
       "  </tbody>\n",
       "</table>\n",
       "<p>3066766 rows × 5 columns</p>\n",
       "</div>"
      ],
      "text/plain": [
       "         passenger_count  trip_distance  payment_type  fare_amount   Duration\n",
       "0                    1.0           0.97             2         9.30   8.433333\n",
       "1                    1.0           1.10             1         7.90   6.316667\n",
       "2                    1.0           2.51             1        14.90  12.750000\n",
       "3                    0.0           1.90             1        12.10   9.616667\n",
       "4                    1.0           1.43             1        11.40  10.833333\n",
       "...                  ...            ...           ...          ...        ...\n",
       "3066761              NaN           3.05             0        15.80  13.983333\n",
       "3066762              NaN           5.80             0        22.43  19.450000\n",
       "3066763              NaN           4.67             0        17.61  24.516667\n",
       "3066764              NaN           3.15             0        18.15  13.000000\n",
       "3066765              NaN           2.85             0        15.97  14.400000\n",
       "\n",
       "[3066766 rows x 5 columns]"
      ]
     },
     "execution_count": 8,
     "metadata": {},
     "output_type": "execute_result"
    }
   ],
   "source": [
    "#taking only those column which can helpfull in this analysis\n",
    "df=df[['passenger_count','trip_distance','payment_type','fare_amount','Duration']]\n",
    "df"
   ]
  },
  {
   "cell_type": "code",
   "execution_count": 9,
   "id": "0830c107-f4e9-43c0-9ec6-6103f4586b89",
   "metadata": {},
   "outputs": [],
   "source": [
    "#changing the data type\n",
    "df['passenger_count'] = df['passenger_count'].astype('Int64')\n",
    "df['payment_type'] = df['payment_type'].astype('Int64')\n",
    "\n"
   ]
  },
  {
   "cell_type": "code",
   "execution_count": 10,
   "id": "d3c2b522-15ef-49b2-aea4-81c2ca466d43",
   "metadata": {},
   "outputs": [
    {
     "data": {
      "text/plain": [
       "(3066766, 5)"
      ]
     },
     "execution_count": 10,
     "metadata": {},
     "output_type": "execute_result"
    }
   ],
   "source": [
    "#checking total data\n",
    "df.shape"
   ]
  },
  {
   "cell_type": "code",
   "execution_count": 11,
   "id": "9216c0d7-3fd0-4bd8-9a45-fcf324aa8bd8",
   "metadata": {},
   "outputs": [
    {
     "data": {
      "text/plain": [
       "passenger_count    71743\n",
       "trip_distance          0\n",
       "payment_type           0\n",
       "fare_amount            0\n",
       "Duration               0\n",
       "dtype: int64"
      ]
     },
     "execution_count": 11,
     "metadata": {},
     "output_type": "execute_result"
    }
   ],
   "source": [
    "#checking for null values\n",
    "df.isnull().sum()\n"
   ]
  },
  {
   "cell_type": "code",
   "execution_count": 12,
   "id": "db1544c2-56a5-4f79-96f3-319e635dbd0a",
   "metadata": {},
   "outputs": [
    {
     "name": "stdout",
     "output_type": "stream",
     "text": [
      "percentage of null values in passenger count columns is :2.34 %\n"
     ]
    }
   ],
   "source": [
    "null_values_percentage = df['passenger_count'].isnull().sum()/len(df)*100\n",
    "print(f\"percentage of null values in passenger count columns is :{null_values_percentage:.2f} %\")"
   ]
  },
  {
   "cell_type": "code",
   "execution_count": 13,
   "id": "b9d26a29-eb30-47da-9294-376ab44a4841",
   "metadata": {},
   "outputs": [
    {
     "name": "stdout",
     "output_type": "stream",
     "text": [
      "after removing the null values total data left(2995023, 5)\n"
     ]
    }
   ],
   "source": [
    "#removing duplicates\n",
    "df = df.dropna(subset=['passenger_count'])\n",
    "after_removing=df.shape\n",
    "print(f\"after removing the null values total data left{after_removing}\")\n"
   ]
  },
  {
   "cell_type": "code",
   "execution_count": 14,
   "id": "f8241653-574d-4fbc-aab9-ab2eb2947b87",
   "metadata": {},
   "outputs": [
    {
     "name": "stdout",
     "output_type": "stream",
     "text": [
      "duplicate value are:1191207\n",
      "Total duplicate percentage is:39.77 %\n"
     ]
    }
   ],
   "source": [
    "#check for duplicates value\n",
    "duplicates = df.duplicated().sum()\n",
    "print(f\"duplicate value are:{duplicates}\")\n",
    "duplicates_percentage = df.duplicated().sum()/len(df)*100\n",
    "print(f'Total duplicate percentage is:{duplicates_percentage:.2f} %')\n"
   ]
  },
  {
   "cell_type": "code",
   "execution_count": 15,
   "id": "a4ac199c-3f51-48d6-b970-e789ab5bd321",
   "metadata": {},
   "outputs": [],
   "source": [
    "#drop duplicate values\n",
    "df.drop_duplicates(inplace=True)\n"
   ]
  },
  {
   "cell_type": "code",
   "execution_count": 16,
   "id": "3e3bc452-19ca-47e0-b41e-9691b45b7e90",
   "metadata": {},
   "outputs": [
    {
     "name": "stdout",
     "output_type": "stream",
     "text": [
      "after droping the duplicate values:(1803816, 5)\n"
     ]
    }
   ],
   "source": [
    "new_shape = df.shape\n",
    "print(f'after droping the duplicate values:{new_shape}')"
   ]
  },
  {
   "cell_type": "code",
   "execution_count": 17,
   "id": "9d064426-b059-49fa-8074-514f077d095c",
   "metadata": {},
   "outputs": [
    {
     "data": {
      "text/plain": [
       "passenger_count\n",
       "1    66.34%\n",
       "2    19.34%\n",
       "3     5.40%\n",
       "4     2.86%\n",
       "5     2.28%\n",
       "0     2.25%\n",
       "6     1.52%\n",
       "8     0.00%\n",
       "7     0.00%\n",
       "9     0.00%\n",
       "Name: proportion, dtype: object"
      ]
     },
     "execution_count": 17,
     "metadata": {},
     "output_type": "execute_result"
    }
   ],
   "source": [
    "#let's check the contribution or distribution\n",
    "# Calculate the proportions and convert to percentages with '%' sign\n",
    "percentages = df['passenger_count'].value_counts(normalize=True).apply(lambda x: f'{x * 100:.2f}%')\n",
    "# Display the percentages\n",
    "percentages"
   ]
  },
  {
   "cell_type": "markdown",
   "id": "7abd3fda-acb4-4ef6-98f7-fcc4f88b7e65",
   "metadata": {},
   "source": [
    "#### 🚖 Passenger Distribution Insights:\n",
    "\n",
    "1-5 passengers cover 98.25% of the data → Most rides are within this range.\n",
    "**6+ passengers contribute < 1% → Very rare cases, statistically insignificant.\n",
    "\n",
    "\n",
    "Since they contribute so little, their impact on revenue trends is minimal.\n",
    "Even if we included them, they wouldn’t change conclusions significantly.\n",
    "Including them would be useful only if we were studying group ride patterns (which we aren’t)."
   ]
  },
  {
   "cell_type": "code",
   "execution_count": 19,
   "id": "8607c8cc-3a87-4c2e-a09c-905a7238fb40",
   "metadata": {},
   "outputs": [
    {
     "data": {
      "text/plain": [
       "payment_type\n",
       "1    74.70%\n",
       "2    22.82%\n",
       "4     1.69%\n",
       "3     0.79%\n",
       "Name: proportion, dtype: object"
      ]
     },
     "execution_count": 19,
     "metadata": {},
     "output_type": "execute_result"
    }
   ],
   "source": [
    "payment_type = df['payment_type'].value_counts(normalize=True).apply(lambda x: f'{x*100:.2f}%')\n",
    "payment_type"
   ]
  },
  {
   "cell_type": "markdown",
   "id": "e3ef871b-dd2b-4270-9ead-d5952df06f61",
   "metadata": {},
   "source": [
    "#### Payment Type:\n",
    "For our analysis, we are focusing exclusively on the two primary payment methods: cash and credit card. Therefore, we have filtered the dataset to include only rides where the payment type is either cash or credit card."
   ]
  },
  {
   "cell_type": "code",
   "execution_count": 21,
   "id": "03c3bdc9-2689-4326-a4ae-2bc5915f37f3",
   "metadata": {},
   "outputs": [
    {
     "name": "stdout",
     "output_type": "stream",
     "text": [
      "after filtering :(1692444, 5)\n"
     ]
    }
   ],
   "source": [
    "#filtering the data \n",
    "df = df.query('passenger_count >0 & passenger_count<6')\n",
    "df = df.query('payment_type<3')\n",
    "after_filtering = df.shape\n",
    "print(f'after filtering :{after_filtering}')"
   ]
  },
  {
   "cell_type": "code",
   "execution_count": 22,
   "id": "b897645f-fc14-45f9-9262-1ea1108e3afc",
   "metadata": {},
   "outputs": [
    {
     "data": {
      "text/html": [
       "<div>\n",
       "<style scoped>\n",
       "    .dataframe tbody tr th:only-of-type {\n",
       "        vertical-align: middle;\n",
       "    }\n",
       "\n",
       "    .dataframe tbody tr th {\n",
       "        vertical-align: top;\n",
       "    }\n",
       "\n",
       "    .dataframe thead th {\n",
       "        text-align: right;\n",
       "    }\n",
       "</style>\n",
       "<table border=\"1\" class=\"dataframe\">\n",
       "  <thead>\n",
       "    <tr style=\"text-align: right;\">\n",
       "      <th></th>\n",
       "      <th>payment_type</th>\n",
       "    </tr>\n",
       "  </thead>\n",
       "  <tbody>\n",
       "    <tr>\n",
       "      <th>0</th>\n",
       "      <td>cash</td>\n",
       "    </tr>\n",
       "    <tr>\n",
       "      <th>1</th>\n",
       "      <td>card</td>\n",
       "    </tr>\n",
       "    <tr>\n",
       "      <th>2</th>\n",
       "      <td>card</td>\n",
       "    </tr>\n",
       "    <tr>\n",
       "      <th>4</th>\n",
       "      <td>card</td>\n",
       "    </tr>\n",
       "    <tr>\n",
       "      <th>5</th>\n",
       "      <td>card</td>\n",
       "    </tr>\n",
       "  </tbody>\n",
       "</table>\n",
       "</div>"
      ],
      "text/plain": [
       "  payment_type\n",
       "0         cash\n",
       "1         card\n",
       "2         card\n",
       "4         card\n",
       "5         card"
      ]
     },
     "execution_count": 22,
     "metadata": {},
     "output_type": "execute_result"
    }
   ],
   "source": [
    "# Convert the column to string and then replace values\n",
    "df['payment_type'] = df['payment_type'].astype(str).replace({'1': 'card', '2': 'cash'})\n",
    "df[['payment_type']].head(5)"
   ]
  },
  {
   "cell_type": "markdown",
   "id": "9caa22d9-ec99-49c8-a437-96b1a5f1aa21",
   "metadata": {},
   "source": [
    "### Statistical Summary"
   ]
  },
  {
   "cell_type": "code",
   "execution_count": 24,
   "id": "9c7469f2-1eaa-49cd-8e31-72f7ba9adb1f",
   "metadata": {},
   "outputs": [
    {
     "data": {
      "text/html": [
       "<div>\n",
       "<style scoped>\n",
       "    .dataframe tbody tr th:only-of-type {\n",
       "        vertical-align: middle;\n",
       "    }\n",
       "\n",
       "    .dataframe tbody tr th {\n",
       "        vertical-align: top;\n",
       "    }\n",
       "\n",
       "    .dataframe thead th {\n",
       "        text-align: right;\n",
       "    }\n",
       "</style>\n",
       "<table border=\"1\" class=\"dataframe\">\n",
       "  <thead>\n",
       "    <tr style=\"text-align: right;\">\n",
       "      <th></th>\n",
       "      <th>passenger_count</th>\n",
       "      <th>trip_distance</th>\n",
       "      <th>fare_amount</th>\n",
       "      <th>Duration</th>\n",
       "    </tr>\n",
       "  </thead>\n",
       "  <tbody>\n",
       "    <tr>\n",
       "      <th>count</th>\n",
       "      <td>1692444.0</td>\n",
       "      <td>1.692444e+06</td>\n",
       "      <td>1.692444e+06</td>\n",
       "      <td>1.692444e+06</td>\n",
       "    </tr>\n",
       "    <tr>\n",
       "      <th>mean</th>\n",
       "      <td>1.501945</td>\n",
       "      <td>4.876065e+00</td>\n",
       "      <td>2.420093e+01</td>\n",
       "      <td>2.054326e+01</td>\n",
       "    </tr>\n",
       "    <tr>\n",
       "      <th>std</th>\n",
       "      <td>0.912502</td>\n",
       "      <td>5.593026e+01</td>\n",
       "      <td>2.047816e+01</td>\n",
       "      <td>5.553706e+01</td>\n",
       "    </tr>\n",
       "    <tr>\n",
       "      <th>min</th>\n",
       "      <td>1.0</td>\n",
       "      <td>0.000000e+00</td>\n",
       "      <td>-4.951000e+02</td>\n",
       "      <td>-2.920000e+01</td>\n",
       "    </tr>\n",
       "    <tr>\n",
       "      <th>25%</th>\n",
       "      <td>1.0</td>\n",
       "      <td>1.500000e+00</td>\n",
       "      <td>1.140000e+01</td>\n",
       "      <td>9.966667e+00</td>\n",
       "    </tr>\n",
       "    <tr>\n",
       "      <th>50%</th>\n",
       "      <td>1.0</td>\n",
       "      <td>2.680000e+00</td>\n",
       "      <td>1.700000e+01</td>\n",
       "      <td>1.568333e+01</td>\n",
       "    </tr>\n",
       "    <tr>\n",
       "      <th>75%</th>\n",
       "      <td>2.0</td>\n",
       "      <td>5.600000e+00</td>\n",
       "      <td>2.890000e+01</td>\n",
       "      <td>2.345000e+01</td>\n",
       "    </tr>\n",
       "    <tr>\n",
       "      <th>max</th>\n",
       "      <td>5.0</td>\n",
       "      <td>6.235952e+04</td>\n",
       "      <td>1.160100e+03</td>\n",
       "      <td>1.002918e+04</td>\n",
       "    </tr>\n",
       "  </tbody>\n",
       "</table>\n",
       "</div>"
      ],
      "text/plain": [
       "       passenger_count  trip_distance   fare_amount      Duration\n",
       "count        1692444.0   1.692444e+06  1.692444e+06  1.692444e+06\n",
       "mean          1.501945   4.876065e+00  2.420093e+01  2.054326e+01\n",
       "std           0.912502   5.593026e+01  2.047816e+01  5.553706e+01\n",
       "min                1.0   0.000000e+00 -4.951000e+02 -2.920000e+01\n",
       "25%                1.0   1.500000e+00  1.140000e+01  9.966667e+00\n",
       "50%                1.0   2.680000e+00  1.700000e+01  1.568333e+01\n",
       "75%                2.0   5.600000e+00  2.890000e+01  2.345000e+01\n",
       "max                5.0   6.235952e+04  1.160100e+03  1.002918e+04"
      ]
     },
     "execution_count": 24,
     "metadata": {},
     "output_type": "execute_result"
    }
   ],
   "source": [
    "df.describe()"
   ]
  },
  {
   "cell_type": "markdown",
   "id": "c712658d-ba18-49ff-bd86-d955e47745ab",
   "metadata": {},
   "source": [
    "Observations-\n",
    "\n",
    "Passenger_count: Ranges from 1 to 5, which seems reasonable.\n",
    "\n",
    "Trip_distance: Median is 2.68, 75th percentile is 5.6, but the max is 62,359.52 miles.\n",
    "This indicates extreme high values that are likely errors or rare events.\n",
    "\n",
    "Fare_amount: The median is 17.00 and the 75th percentile is 28.90, but you have a negative minimum (-495.10) and a maximum of 1160.10.\n",
    "Negative fares are likely data errors, and the extremely high fare might be an outlier.\n",
    "\n",
    "Duration: Median is 15.68 minutes and 75th percentile is 23.45 minutes, but the min is -29.20 and the max is over 10,000 minutes.\n",
    "Negative durations are clearly erroneous, and the extremely high duration values need further investigation."
   ]
  },
  {
   "cell_type": "code",
   "execution_count": 85,
   "id": "8e936f47-8707-49a5-8023-22010aa8718a",
   "metadata": {},
   "outputs": [
    {
     "name": "stdout",
     "output_type": "stream",
     "text": [
      "       passenger_count  trip_distance  fare_amount   Duration\n",
      "count       1396856.00     1396856.00   1396856.00 1396856.00\n",
      "mean              1.52           2.89        16.98      14.52\n",
      "std               0.93           2.13         8.27       7.04\n",
      "min               1.00           0.01         0.01       0.02\n",
      "25%               1.00           1.37        10.70       9.12\n",
      "50%               1.00           2.28        15.60      13.87\n",
      "75%               2.00           3.71        21.20      19.22\n",
      "max               5.00          11.90        41.00      34.97\n"
     ]
    }
   ],
   "source": [
    "# Dropping negative values\n",
    "df = df.query('fare_amount > 0 & Duration > 0 & trip_distance > 0')\n",
    "\n",
    "# Set pandas display options to avoid scientific notation\n",
    "pd.set_option('display.float_format', '{:.2f}'.format)\n",
    "\n",
    "# Display the descriptive statistics\n",
    "print(df.describe())"
   ]
  },
  {
   "cell_type": "markdown",
   "id": "0ab8cf7f-a722-4c03-87a4-2759b9cf2a18",
   "metadata": {},
   "source": [
    "### Checking outliers"
   ]
  },
  {
   "cell_type": "code",
   "execution_count": 89,
   "id": "e9d96368-bb96-4004-8439-160efc30b750",
   "metadata": {},
   "outputs": [
    {
     "data": {
      "image/png": "[encoded data removed]",
      "text/plain": [
       "<Figure size 800x400 with 1 Axes>"
      ]
     },
     "metadata": {},
     "output_type": "display_data"
    },
    {
     "data": {
      "image/png": "[encoded data removed]",
      "text/plain": [
       "<Figure size 800x400 with 1 Axes>"
      ]
     },
     "metadata": {},
     "output_type": "display_data"
    },
    {
     "data": {
      "image/png": "[encoded data removed]",
      "text/plain": [
       "<Figure size 800x400 with 1 Axes>"
      ]
     },
     "metadata": {},
     "output_type": "display_data"
    },
    {
     "data": {
      "image/png": "[encoded data removed]",
      "text/plain": [
       "<Figure size 800x400 with 1 Axes>"
      ]
     },
     "metadata": {},
     "output_type": "display_data"
    },
    {
     "data": {
      "image/png": "[encoded data removed]",
      "text/plain": [
       "<Figure size 800x400 with 1 Axes>"
      ]
     },
     "metadata": {},
     "output_type": "display_data"
    },
    {
     "data": {
      "image/png": "[encoded data removed]",
      "text/plain": [
       "<Figure size 800x400 with 1 Axes>"
      ]
     },
     "metadata": {},
     "output_type": "display_data"
    }
   ],
   "source": [
    "# List of columns to visualize\n",
    "cols = ['trip_distance', 'fare_amount', 'Duration']\n",
    "\n",
    "# Theme colors\n",
    "box_color = \"#6C757D\"\n",
    "hist_color = \"#FFC300\"\n",
    "\n",
    "# Using boxplot\n",
    "for col in cols:\n",
    "    plt.figure(figsize=(8, 4))\n",
    "    sns.boxplot(x=df[col], color=box_color)\n",
    "    plt.title(f'Box plot of {col}')\n",
    "    plt.show()\n",
    "\n",
    "    # Using histogram\n",
    "    plt.figure(figsize=(8, 4))\n",
    "    sns.histplot(df[col], bins=100, kde=True, color=hist_color)\n",
    "    plt.title(f'Histogram of {col}')\n",
    "    plt.show()"
   ]
  },
  {
   "cell_type": "markdown",
   "id": "ac46295f-7720-4d4a-a3c4-66a06c803972",
   "metadata": {},
   "source": [
    "After plotting both boxplots and histograms for the trip_distance, fare_amount, and Duration columns, I observed that each variable contains a significant number of extreme values (outliers). These outliers cause heavy right-skew in the distributions, making it difficult to visualize the main cluster of data.\n",
    "\n",
    "Next Step:\n",
    "I will proceed with a systematic approach (e.g., IQR method) to remove or cap these extreme values so that my analysis and statistical tests are not overly influenced by a relatively small number of anomalous points. By handling these outliers, I aim to improve the reliability of the insights drawn from the data."
   ]
  },
  {
   "cell_type": "markdown",
   "id": "ce152948-ce5b-4254-afab-16e62c360865",
   "metadata": {},
   "source": [
    "### Removing outliers\n"
   ]
  },
  {
   "cell_type": "code",
   "execution_count": 90,
   "id": "b5245194-5677-4f91-a551-de191063eec0",
   "metadata": {},
   "outputs": [],
   "source": [
    "#using IQR method\n",
    "cols = ['trip_distance', 'fare_amount', 'Duration']\n",
    "for col in cols:\n",
    "    q1= df[col].quantile(0.25)\n",
    "    q3= df[col].quantile(0.75)\n",
    "    iqr = q3-q1\n",
    "    lower_bound = q1-1.5*iqr\n",
    "    upper_bound = q3+1.5*iqr\n",
    "    df = df.query(f\"{col} >= @lower_bound and {col} <= @upper_bound\")\n",
    "    \n"
   ]
  },
  {
   "cell_type": "code",
   "execution_count": 91,
   "id": "49fa6f22-cc2e-4489-b0b9-5d7944baae12",
   "metadata": {},
   "outputs": [
    {
     "data": {
      "text/html": [
       "<div>\n",
       "<style scoped>\n",
       "    .dataframe tbody tr th:only-of-type {\n",
       "        vertical-align: middle;\n",
       "    }\n",
       "\n",
       "    .dataframe tbody tr th {\n",
       "        vertical-align: top;\n",
       "    }\n",
       "\n",
       "    .dataframe thead th {\n",
       "        text-align: right;\n",
       "    }\n",
       "</style>\n",
       "<table border=\"1\" class=\"dataframe\">\n",
       "  <thead>\n",
       "    <tr style=\"text-align: right;\">\n",
       "      <th></th>\n",
       "      <th>passenger_count</th>\n",
       "      <th>trip_distance</th>\n",
       "      <th>payment_type</th>\n",
       "      <th>fare_amount</th>\n",
       "      <th>Duration</th>\n",
       "    </tr>\n",
       "  </thead>\n",
       "  <tbody>\n",
       "    <tr>\n",
       "      <th>0</th>\n",
       "      <td>1</td>\n",
       "      <td>0.97</td>\n",
       "      <td>cash</td>\n",
       "      <td>9.30</td>\n",
       "      <td>8.43</td>\n",
       "    </tr>\n",
       "    <tr>\n",
       "      <th>1</th>\n",
       "      <td>1</td>\n",
       "      <td>1.10</td>\n",
       "      <td>card</td>\n",
       "      <td>7.90</td>\n",
       "      <td>6.32</td>\n",
       "    </tr>\n",
       "    <tr>\n",
       "      <th>2</th>\n",
       "      <td>1</td>\n",
       "      <td>2.51</td>\n",
       "      <td>card</td>\n",
       "      <td>14.90</td>\n",
       "      <td>12.75</td>\n",
       "    </tr>\n",
       "    <tr>\n",
       "      <th>4</th>\n",
       "      <td>1</td>\n",
       "      <td>1.43</td>\n",
       "      <td>card</td>\n",
       "      <td>11.40</td>\n",
       "      <td>10.83</td>\n",
       "    </tr>\n",
       "    <tr>\n",
       "      <th>5</th>\n",
       "      <td>1</td>\n",
       "      <td>1.84</td>\n",
       "      <td>card</td>\n",
       "      <td>12.80</td>\n",
       "      <td>12.30</td>\n",
       "    </tr>\n",
       "    <tr>\n",
       "      <th>...</th>\n",
       "      <td>...</td>\n",
       "      <td>...</td>\n",
       "      <td>...</td>\n",
       "      <td>...</td>\n",
       "      <td>...</td>\n",
       "    </tr>\n",
       "    <tr>\n",
       "      <th>2995013</th>\n",
       "      <td>1</td>\n",
       "      <td>6.82</td>\n",
       "      <td>cash</td>\n",
       "      <td>31.00</td>\n",
       "      <td>21.95</td>\n",
       "    </tr>\n",
       "    <tr>\n",
       "      <th>2995014</th>\n",
       "      <td>2</td>\n",
       "      <td>1.74</td>\n",
       "      <td>card</td>\n",
       "      <td>11.40</td>\n",
       "      <td>9.97</td>\n",
       "    </tr>\n",
       "    <tr>\n",
       "      <th>2995015</th>\n",
       "      <td>1</td>\n",
       "      <td>2.84</td>\n",
       "      <td>card</td>\n",
       "      <td>13.50</td>\n",
       "      <td>7.75</td>\n",
       "    </tr>\n",
       "    <tr>\n",
       "      <th>2995019</th>\n",
       "      <td>1</td>\n",
       "      <td>3.37</td>\n",
       "      <td>card</td>\n",
       "      <td>15.60</td>\n",
       "      <td>10.87</td>\n",
       "    </tr>\n",
       "    <tr>\n",
       "      <th>2995021</th>\n",
       "      <td>2</td>\n",
       "      <td>3.80</td>\n",
       "      <td>card</td>\n",
       "      <td>17.70</td>\n",
       "      <td>10.77</td>\n",
       "    </tr>\n",
       "  </tbody>\n",
       "</table>\n",
       "<p>1290962 rows × 5 columns</p>\n",
       "</div>"
      ],
      "text/plain": [
       "         passenger_count  trip_distance payment_type  fare_amount  Duration\n",
       "0                      1           0.97         cash         9.30      8.43\n",
       "1                      1           1.10         card         7.90      6.32\n",
       "2                      1           2.51         card        14.90     12.75\n",
       "4                      1           1.43         card        11.40     10.83\n",
       "5                      1           1.84         card        12.80     12.30\n",
       "...                  ...            ...          ...          ...       ...\n",
       "2995013                1           6.82         cash        31.00     21.95\n",
       "2995014                2           1.74         card        11.40      9.97\n",
       "2995015                1           2.84         card        13.50      7.75\n",
       "2995019                1           3.37         card        15.60     10.87\n",
       "2995021                2           3.80         card        17.70     10.77\n",
       "\n",
       "[1290962 rows x 5 columns]"
      ]
     },
     "execution_count": 91,
     "metadata": {},
     "output_type": "execute_result"
    }
   ],
   "source": [
    "df"
   ]
  },
  {
   "cell_type": "markdown",
   "id": "16a632fc-a4da-4ae7-a818-0e7d4dcd5245",
   "metadata": {},
   "source": [
    "## Feature Analysis: Understanding Fare Amount,Passenger Count & Trip Distance by Payment Type"
   ]
  },
  {
   "cell_type": "code",
   "execution_count": 95,
   "id": "67b85a71-64b0-49fb-91ef-4d1cbf9aa806",
   "metadata": {},
   "outputs": [
    {
     "data": {
      "image/png": "[encoded data removed]",
      "text/plain": [
       "<Figure size 800x500 with 1 Axes>"
      ]
     },
     "metadata": {},
     "output_type": "display_data"
    }
   ],
   "source": [
    "# Set a consistent color theme\n",
    "custom_palette = {\"cash\": \"#6C757D\", \"card\":  \"#FFC300\"}  # Light peach for cash, deep red for card\n",
    "plt.figure(figsize=(8, 5))\n",
    "#using countplot\n",
    "sns.countplot(x=df['payment_type'], palette=custom_palette)\n",
    "plt.title(\"Distribution of Payment Types\")\n",
    "plt.xlabel(\"Payment Type\")\n",
    "plt.ylabel(\"Count\")\n",
    "plt.show()\n"
   ]
  },
  {
   "cell_type": "markdown",
   "id": "e5cd4419-332c-4b0e-9334-1a7d6ae091a9",
   "metadata": {},
   "source": [
    "### 🔍 Observations from the Countplot:\n",
    "Card payments are significantly higher than cash payments.\n",
    " passengers might prefer card payments due to convenience and speed."
   ]
  },
  {
   "cell_type": "code",
   "execution_count": null,
   "id": "deae3dac-92e8-477f-ba79-21bc1a4f1f7c",
   "metadata": {},
   "outputs": [],
   "source": [
    "\n",
    "\n",
    "plt.figure(figsize=(12, 5))\n",
    "\n",
    "# Subplot 1: Distribution of fare amount\n",
    "plt.subplot(1, 2, 1)\n",
    "plt.title('Distribution of Fare Amount')\n",
    "plt.hist(df[df['payment_type'] == 'card']['fare_amount'],\n",
    "         histtype='barstacked', bins=20, edgecolor='k',\n",
    "         color=custom_palette['card'], label='Card')\n",
    "plt.hist(df[df['payment_type'] == 'cash']['fare_amount'],\n",
    "         histtype='barstacked', bins=20, edgecolor='k',\n",
    "         color=custom_palette['cash'], label='Cash')\n",
    "plt.legend()\n",
    "\n",
    "# Subplot 2: Distribution of trip distance\n",
    "plt.subplot(1, 2, 2)\n",
    "plt.title('Distribution of Trip Distance')\n",
    "plt.hist(df[df['payment_type'] == 'card']['trip_distance'],\n",
    "         histtype='barstacked', bins=20, edgecolor='k',\n",
    "         color=custom_palette['card'], label='Card')\n",
    "plt.hist(df[df['payment_type'] == 'cash']['trip_distance'],\n",
    "         histtype='barstacked', bins=20, edgecolor='k',\n",
    "         color=custom_palette['cash'], label='Cash')\n",
    "plt.legend()\n",
    "\n",
    "plt.tight_layout()  # Improves subplot spacing\n",
    "plt.show()\n"
   ]
  },
  {
   "cell_type": "markdown",
   "id": "11a04bd0-d2d4-48e0-a88e-1bd182753de9",
   "metadata": {},
   "source": [
    "🔍Observations\n",
    "Card vs. Cash\n",
    "The yellow bars (Card) generally dominate at higher fare amounts, suggesting card payments might be more common for pricier trips.\n",
    "The gray bars (Cash) peak somewhat lower but still overlap significantly.\n",
    "\n",
    "Skewed Distribution\n",
    "Even after outlier removal, fares can remain right‐skewed—some longer, costlier trips are valid.\n",
    "\n",
    "Multiple Peaks\n",
    "The distribution looks somewhat “multi‐modal” (multiple small peaks). This might reflect different rate zones or typical trip patterns (e.g., short local rides vs. airport trips).\n"
   ]
  },
  {
   "cell_type": "code",
   "execution_count": null,
   "id": "0b91cee3-3df4-45d0-9131-25275f17aa32",
   "metadata": {},
   "outputs": [],
   "source": [
    "#using stack bar chart we are analyzing passenger count and payment type\n",
    "# 1) Count how many rides belong to each (payment_type, passenger_count)\n",
    "df_group = df.groupby(['payment_type', 'passenger_count']).size().reset_index(name='count')\n",
    "\n",
    "# 2) Also find how many rides belong to each payment_type overall\n",
    "df_payment = df_group.groupby('payment_type')['count'].sum().reset_index(name='payment_count')\n",
    "\n",
    "# 3) Calculate total rides\n",
    "total_rides = df_payment['payment_count'].sum()\n",
    "\n",
    "# 4) Merge data so each row has both:\n",
    "#    - passenger_count\n",
    "#    - payment_type\n",
    "#    - count (rides in that group)\n",
    "#    - payment_count (total rides for that payment type)\n",
    "df_merged = pd.merge(df_group, df_payment, on='payment_type')\n",
    "\n",
    "# 5) Calculate proportion_of_total for each segment (passenger_count within payment_type)\n",
    "#    relative to the ENTIRE dataset\n",
    "df_merged['prop_of_total'] = df_merged['count'] / total_rides\n",
    "\n",
    "# 6) Pivot so rows = payment_type, columns = passenger_count, values = prop_of_total\n",
    "df_pivot = df_merged.pivot(index='payment_type', columns='passenger_count', values='prop_of_total').fillna(0)\n",
    "\n",
    "# 7) Sort passenger_count columns if needed\n",
    "#    (e.g., passenger_count from 1 to 5)\n",
    "df_pivot = df_pivot[sorted(df_pivot.columns)]\n",
    "\n",
    "# 8) We'll plot two horizontal bars (one for each payment_type),\n",
    "#    each subdivided by passenger_count, summing to the proportion_of_total\n",
    "#    for that payment type.\n",
    "fig, ax = plt.subplots(figsize=(10, 5))\n",
    "\n",
    "# We'll track the left edge of each segment\n",
    "y_positions = [0, 1]  # top bar = 0, bottom bar = 1\n",
    "bar_height = 0.6\n",
    "\n",
    "# Define a custom palette for passenger_count (5 categories)\n",
    "passenger_colors = [\"#FFD400\", \"#FFB800\", \"#FFA600\", \"#FF8F00\", \"#FF7700\"]\n",
    "\n",
    "# We'll plot from left to right. Each row is a bar: \"cash\" or \"card\"\n",
    "payment_types = df_pivot.index.tolist()\n",
    "\n",
    "for i, ptype in enumerate(payment_types):\n",
    "    # This row is a Series with passenger_count=1..5 proportions\n",
    "    row_data = df_pivot.loc[ptype]\n",
    "    left_edge = 0.0\n",
    "    \n",
    "    for j, (pcount, val) in enumerate(row_data.items()):\n",
    "        if val > 0:\n",
    "            # Plot a rectangle from left_edge to left_edge+val\n",
    "            ax.barh(\n",
    "                y=y_positions[i],\n",
    "                width=val,\n",
    "                left=left_edge,\n",
    "                height=bar_height,\n",
    "                color=passenger_colors[j % len(passenger_colors)],\n",
    "                edgecolor='white'\n",
    "            )\n",
    "            \n",
    "            # Add percentage label if segment > 1%\n",
    "            if val > 0.01:\n",
    "                ax.text(\n",
    "                    left_edge + val/2,\n",
    "                    y_positions[i],\n",
    "                    f\"{val*100:.0f}%\",\n",
    "                    ha='center', va='center', color='black', fontsize=9\n",
    "                )\n",
    "            \n",
    "            left_edge += val\n",
    "    \n",
    "    # Also label the entire bar with the total proportion for that payment_type\n",
    "    # sum of row_data is proportion_of_dataset for that payment_type\n",
    "    total_prop = row_data.sum()\n",
    "    ax.text(\n",
    "        total_prop + 0.01,  # place text slightly to the right\n",
    "        y_positions[i],\n",
    "        f\"{(total_prop*100):.0f}%\", \n",
    "        ha='left', va='center', color='black', fontsize=10, fontweight='bold'\n",
    "    )\n",
    "\n",
    "# Format y-axis ticks with the payment_type labels\n",
    "ax.set_yticks(y_positions)\n",
    "ax.set_yticklabels(payment_types, fontsize=11)\n",
    "\n",
    "ax.set_xlim(0, 1)  # 0% to 100%\n",
    "ax.set_ylim(-0.5, 1.5)\n",
    "\n",
    "ax.set_xlabel(\"Proportion of Entire Dataset\", fontsize=11)\n",
    "ax.set_ylabel(\"Payment Type\", fontsize=11)\n",
    "ax.set_title(\"Payment Type vs. Passenger Count as Proportions of Entire Dataset\", fontsize=13)\n",
    "\n",
    "# Create a custom legend for passenger_count\n",
    "# (just show squares for 1..5)\n",
    "handles = []\n",
    "labels = []\n",
    "for idx, col in enumerate(df_pivot.columns):\n",
    "    patch = plt.Rectangle((0, 0), 1, 1, color=passenger_colors[idx], edgecolor='white')\n",
    "    handles.append(patch)\n",
    "    labels.append(str(col))\n",
    "\n",
    "legend = ax.legend(handles, labels, title=\"Passenger Count\", bbox_to_anchor=(1.0, 1.0))\n",
    "plt.tight_layout()\n",
    "plt.show()\n",
    "#\"To visualize this data, I started by grouping the data to count rides based on payment_type and passenger_count. Then, \n",
    "#I calculated the proportion of each group relative to the total dataset. Using plt.barh(), I plotted horizontal bars for each payment type, \n",
    "#where each segment represented a different passenger count. I added labels directly on the chart to enhance readability, \n",
    "#ensuring clear insights for stakeholders.\"\n"
   ]
  },
  {
   "cell_type": "markdown",
   "id": "53c5c647-87a1-43e8-a018-f951b14b2ec0",
   "metadata": {},
   "source": [
    "🔍Observations\n",
    "Overall Dataset Distribution\n",
    "\n",
    "Card payments represent about 76% of all rides, while cash payments make up the remaining 24%.\n",
    "This indicates that card usage dominates in the dataset.\n",
    "Passenger Count Breakdown\n",
    "\n",
    "For card rides:\n",
    "51% of the entire dataset consists of single-passenger trips paid by card.\n",
    "The remaining 25% (within card) are multi-passenger trips of 2 or more people.\n",
    "For cash rides:\n",
    "17% of the entire dataset are single-passenger cash rides.\n",
    "The remaining 7% are multi-passenger cash rides.\n",
    "Single-Passenger Dominance\n",
    "\n",
    "Combining both payment types, single-passenger trips constitute the majority of rides (over two-thirds of the dataset).\n",
    "Multi-passenger trips (2–5) form a smaller fraction overall, regardless of payment method.\n",
    "Practical Takeaway\n",
    "\n",
    "Taxis see a high reliance on card payments, especially for single-passenger rides.\n",
    "Cash transactions remain relevant, but they represent a smaller share, mostly single-passenger as well.\n",
    "This distribution highlights the convenience preference (card) and the rarity of larger group rides.\n"
   ]
  },
  {
   "cell_type": "markdown",
   "id": "7b46a312-3e19-49c4-8445-ec37c8ce35e5",
   "metadata": {},
   "source": [
    "## Hypotheses Testing"
   ]
  },
  {
   "cell_type": "markdown",
   "id": "c2dd9cbe-b2a5-4f25-bab5-df98855a33b3",
   "metadata": {},
   "source": [
    "### Objective:\n",
    "### To test whether there is a statistically significant difference in fare amounts between rides paid by card and rides paid by cash."
   ]
  },
  {
   "cell_type": "markdown",
   "id": "bb8deff6-e930-4ccb-a48b-853d8ba3c1fb",
   "metadata": {},
   "source": [
    "### Null Hypothesis: The mean fare is the same for both payment types (card vs. cash).\n",
    "\n",
    "### Alternative Hypothesis: The mean fare differs between the two payment types."
   ]
  },
  {
   "cell_type": "code",
   "execution_count": null,
   "id": "5477cc38-422a-479a-ba2a-a4f7da153ab6",
   "metadata": {},
   "outputs": [],
   "source": [
    "\n",
    "# 1. Seaborn style for a clean background\n",
    "sns.set_style(\"whitegrid\")\n",
    "\n",
    "# 2. Create the Q-Q plot figure\n",
    "fig = sm.qqplot(df['fare_amount'], line='45')\n",
    "\n",
    "# 3. Customize the plot\n",
    "ax = fig.axes[0]\n",
    "\n",
    "# The Q-Q plot typically has two line objects:\n",
    "#   - line[0]: the data points\n",
    "#   - line[1]: the 45° reference line\n",
    "# Depending on statsmodels version, the data might be a scatter object.\n",
    "\n",
    "# Try to color the data points in a taxi-yellow\n",
    "points = ax.get_lines()[0]\n",
    "points.set_markerfacecolor(\"#FFC300\")  # bright taxi yellow\n",
    "points.set_markeredgecolor(\"#FFC300\")\n",
    "\n",
    "# Optionally, change the reference line color to black or red\n",
    "ref_line = ax.get_lines()[1]\n",
    "ref_line.set_color(\"red\")\n",
    "ref_line.set_linewidth(1.5)\n",
    "\n",
    "# 4. Add a title & labels\n",
    "ax.set_title(\"Q-Q Plot of Fare Amount (Taxi-Themed)\", fontsize=14)\n",
    "ax.set_xlabel(\"Theoretical Quantiles\", fontsize=12)\n",
    "ax.set_ylabel(\"Sample Quantiles\", fontsize=12)\n",
    "\n",
    "plt.tight_layout()\n",
    "plt.show()\n"
   ]
  },
  {
   "cell_type": "markdown",
   "id": "07dfa01e-932a-4b5b-a0af-7881117f47c4",
   "metadata": {},
   "source": [
    "\n",
    "Q-Q Plot Purpose: Provides a formal visual check of normality beyond histograms.\n",
    "Points near the line suggest normality; large deviations (particularly in tails) indicate skewness or heavy tails.\n",
    "\n",
    "Statistical Test Recommendation:\n",
    "Since fare_amount is skewed and not normal, a two-sample t-test is not ideal (unless I log-transform this data).\n",
    "A nonparametric test like Mann–Whitney U (also known as Wilcoxon rank-sum) is more appropriate for comparing fare amounts between two groups (e.g., card vs. cash)."
   ]
  },
  {
   "cell_type": "markdown",
   "id": "7c2172fc-d892-4b62-95f6-11a334bdc229",
   "metadata": {},
   "source": [
    "### Methodology\n",
    "Since our fare data is highly skewed (as confirmed by our histograms and Q-Q plots), we opted for a nonparametric test. We used the Mann–Whitney U test because:\n",
    "\n",
    " It does not assume normality.\n",
    " It is appropriate for comparing two independent groups (card vs. cash)."
   ]
  },
  {
   "cell_type": "code",
   "execution_count": null,
   "id": "1486fe8d-0803-4d4c-a771-72ea23fef67d",
   "metadata": {},
   "outputs": [],
   "source": [
    "# 1. Extract fare data for each payment type\n",
    "card_fares = df.loc[df['payment_type'] == 'card', 'fare_amount'].dropna()\n",
    "cash_fares = df.loc[df['payment_type'] == 'cash', 'fare_amount'].dropna()\n",
    "\n",
    "# 2. Perform Mann–Whitney U test (two-sided)\n",
    "stat, p_value = mannwhitneyu(card_fares, cash_fares, alternative='two-sided')\n",
    "\n",
    "# 3. Significance level\n",
    "alpha = 0.05\n",
    "\n",
    "print(\"Mann–Whitney U Statistic:\", stat)\n",
    "print(\"p-value:\", p_value)\n",
    "\n",
    "if p_value < alpha:\n",
    "    print(\"Reject H0: There's a significant difference in the fare amounts between card & cash.\")\n",
    "else:\n",
    "    print(\"Fail to reject H0: No significant difference in fare amounts.\")\n"
   ]
  },
  {
   "cell_type": "markdown",
   "id": "2885b295-37f8-4a74-8220-7af70b7df403",
   "metadata": {},
   "source": [
    "#### Additionally, I computed the median fare for each group to understand the direction of any difference:"
   ]
  },
  {
   "cell_type": "code",
   "execution_count": null,
   "id": "2faa00f8-dc5b-4906-a80a-d0edd41edaea",
   "metadata": {},
   "outputs": [],
   "source": [
    "median_card = card_fares.median()\n",
    "median_cash = cash_fares.median()\n",
    "\n",
    "print(f\"Median Fare (Card): {median_card:.2f}\")\n",
    "print(f\"Median Fare (Cash): {median_cash:.2f}\")\n"
   ]
  },
  {
   "cell_type": "markdown",
   "id": "911b0651-e3e6-46db-85e7-3f966817ab84",
   "metadata": {},
   "source": [
    "#### Based on the results:\n",
    "median_card > median_cash: It suggests that rides paid by card tend to have higher fares.\n",
    "\n"
   ]
  },
  {
   "cell_type": "markdown",
   "id": "6f72b368-96ed-4536-8ba1-ff694b7e8d51",
   "metadata": {},
   "source": [
    "## Regression Analysis: Modeling Fare Amount Based on Trip Duration and Payment Type\n",
    "\n"
   ]
  },
  {
   "cell_type": "code",
   "execution_count": null,
   "id": "94d94975-b3ba-4afe-a5f9-d193e687416c",
   "metadata": {},
   "outputs": [],
   "source": [
    "# linear regression formula: \n",
    "model = smf.ols(\"fare_amount ~ Duration + C(payment_type)\", data=df).fit()\n",
    "print(model.summary())\n"
   ]
  },
  {
   "cell_type": "markdown",
   "id": "9ae33776-1e79-40f6-85fe-56582f383c31",
   "metadata": {},
   "source": [
    "\r\n",
    "\r\n",
    "# Conclusion & Recommendatins\r\n",
    "\r\n",
    "## Limitations & Suggestions\r\n",
    "- **Residual Non-Normality:**  \r\n",
    "  The Q-Q plot indicates that the residuals from our regression model are **not normally distributed**. In future analyses, consider applying a **log-transformation** to `fare_amount` or using **robust regression** techniques to better handle the skewed data.\r\n",
    "  \r\n",
    "- **Additional Predictors:**  \r\n",
    "  While the current model includes **Duration** and **Payment Type**, incorporating further predictors—such as **trip_distance**, **time-of-day**, or **passenger_count**—could refine the model and provide deeper insights into the factors influencing fare amounts.\r\n",
    "\r\n",
    "## Regression Analysis Findings\r\n",
    "- **Trip Duration Impact:**  \r\n",
    "  Each additional minute increases fare by approximately **\\$0.86**.\r\n",
    "  \r\n",
    "- **Payment Type Impact:**  \r\n",
    "  Controlling for duration, rides paid by cash are on average about **\\$0.25 cheaper** than those paid by card. This means that for trips of equal duration, **cash \n",
    "  \n",
    "##  What Does \"Controlling for Duration\" Mean?\r\n",
    "It means that when comparing two trips of equal duration, the trip paid by cash is estimated to be $0.28 cheaper than the one paid by card. This is an average effect found by the model, not a direct measurement of frequency. So even if cash rides have a lower fare on average, if card rides occur much more frequently (which your univariate analyses indicate), then overall revenue might still be driven by card transactions.rides** cost less.\r\n",
    "  \r\n",
    "- **Model Performance:**  \r\n",
    "  The model explains **78.3%** of the variance in `fare_amount` (R-squared = 0.783), indicating a strong model fit.\r\n",
    "\r\n",
    "## Hypothesis Testing Results\r\n",
    "- Our **Mann–Whitney U test** showed a statistically significant difference in fare amounts between card and cash payments, confirming that the observed difference is unlikely due to chance.\r\n",
    "\r\n",
    "## Recommendations\r\n",
    "- **Incentivize Card Payments:**  \r\n",
    "  Promote cashless transactions through loyalty programs, targeted promotions, or small discounts on digital payments, as card payments are associated with higher fares.\r\n",
    "  \r\n",
    "- **Further Analyze Ride Characteristics:**  \r\n",
    "  Investigate additional variables (e.g., **trip_distance**, **time-of-day**, **passenger_count**) to understand if card rides are linked to longer trips or occur during peak times, which might explain the higher fares.\r\n",
    "  \r\n",
    "- **Invest in Digital Infrastructure:**  \r\n",
    "  Enhance digital transaction systems to improve operational efficiency and customer satisfaction, leading to long-term revenue growth.\r\n",
    "\r\n",
    "## Summary\r\n",
    "Both our hypothesis testing and regression analysis support a strategy of **promoting card payments** to boost revenue. Despite some limitations (like non-normal residuals), our findings indicate that card rides yield higher fares. This targeted approach, combined with further exploration of ride characteristics and additional predictors, can help optimize pricing and sny additional insights from your project!"
   ]
  },
  {
   "cell_type": "code",
   "execution_count": null,
   "id": "df7fd271-4b10-44ec-a1b8-05a84537e02a",
   "metadata": {},
   "outputs": [],
   "source": []
  }
 ],
 "metadata": {
  "kernelspec": {
   "display_name": "Python [conda env:base] *",
   "language": "python",
   "name": "conda-base-py"
  },
  "language_info": {
   "codemirror_mode": {
    "name": "ipython",
    "version": 3
   },
   "file_extension": ".py",
   "mimetype": "text/x-python",
   "name": "python",
   "nbconvert_exporter": "python",
   "pygments_lexer": "ipython3",
   "version": "3.12.3"
  }
 },
 "nbformat": 4,
 "nbformat_minor": 5
}
