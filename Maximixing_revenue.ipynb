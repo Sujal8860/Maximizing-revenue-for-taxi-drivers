{
 "cells": [
  {
   "cell_type": "markdown",
   "id": "50424a3d",
   "metadata": {},
   "source": [
    "# Maximizing Revenue for Taxi  Drivers through Payment Type Analysis\n",
    "\n",
    "## Problem Statement\n",
    "\n",
    "In the fast-paced taxi booking sector, making the most of revenue is essential for long-term success and driver happiness. Our goal is to use data-driven insights to maximize revenue streams for taxi drivers in order to meet this need. Our research aims to determine whether payment methods have an impact on fare pricing by focusing on the relationship between payment type and fare amount.\n",
    "\n",
    "## Objective\n",
    "\n",
    "This project's main goal is to run an A/B test to examine the relationship between the total fare and the method of payment. We use Python hypothesis testing and descriptive statistics to extract useful information that can help taxi drivers maximize their revenue. In particular, we want to find out if there is a big difference in the fares for those who pay with credit cards versus those who pay with cash.\n",
    "\n",
    "## Research Question\n",
    "\n",
    "Is there a relationship between total fare amount and payment type, and can we nudge customers towards payment methods that generate higher revenue for drivers without negatively impacting customer experience?"
   ]
  },
  {
   "cell_type": "markdown",
   "id": "c7b354e7",
   "metadata": {},
   "source": [
    "## Importing libraries"
   ]
  },
  {
   "cell_type": "code",
   "execution_count": 53,
   "id": "50721498",
   "metadata": {},
   "outputs": [],
   "source": [
    "import pandas as pd\n",
    "import numpy as np\n",
    "import matplotlib.pyplot as plt\n",
    "import seaborn as sns\n",
    "import scipy.stats as st\n",
    "import statsmodels.api as sm\n",
    "from scipy.stats import mannwhitneyu\n",
    "import warnings\n",
    "warnings.filterwarnings('ignore')"
   ]
  },
  {
   "cell_type": "code",
   "execution_count": 54,
   "id": "32b8c316",
   "metadata": {},
   "outputs": [
    {
     "data": {
      "text/html": [
       "<div>\n",
       "<style scoped>\n",
       "    .dataframe tbody tr th:only-of-type {\n",
       "        vertical-align: middle;\n",
       "    }\n",
       "\n",
       "    .dataframe tbody tr th {\n",
       "        vertical-align: top;\n",
       "    }\n",
       "\n",
       "    .dataframe thead th {\n",
       "        text-align: right;\n",
       "    }\n",
       "</style>\n",
       "<table border=\"1\" class=\"dataframe\">\n",
       "  <thead>\n",
       "    <tr style=\"text-align: right;\">\n",
       "      <th></th>\n",
       "      <th>VendorID</th>\n",
       "      <th>tpep_pickup_datetime</th>\n",
       "      <th>tpep_dropoff_datetime</th>\n",
       "      <th>passenger_count</th>\n",
       "      <th>trip_distance</th>\n",
       "      <th>RatecodeID</th>\n",
       "      <th>store_and_fwd_flag</th>\n",
       "      <th>PULocationID</th>\n",
       "      <th>DOLocationID</th>\n",
       "      <th>payment_type</th>\n",
       "      <th>fare_amount</th>\n",
       "      <th>extra</th>\n",
       "      <th>mta_tax</th>\n",
       "      <th>tip_amount</th>\n",
       "      <th>tolls_amount</th>\n",
       "      <th>improvement_surcharge</th>\n",
       "      <th>total_amount</th>\n",
       "      <th>congestion_surcharge</th>\n",
       "      <th>airport_fee</th>\n",
       "    </tr>\n",
       "  </thead>\n",
       "  <tbody>\n",
       "    <tr>\n",
       "      <th>0</th>\n",
       "      <td>2</td>\n",
       "      <td>2023-01-01 00:32:10</td>\n",
       "      <td>2023-01-01 00:40:36</td>\n",
       "      <td>1.0000000000</td>\n",
       "      <td>0.9700000000</td>\n",
       "      <td>1.0000000000</td>\n",
       "      <td>N</td>\n",
       "      <td>161</td>\n",
       "      <td>141</td>\n",
       "      <td>2</td>\n",
       "      <td>9.3000000000</td>\n",
       "      <td>1.0000000000</td>\n",
       "      <td>0.5000000000</td>\n",
       "      <td>0.0000000000</td>\n",
       "      <td>0.0000000000</td>\n",
       "      <td>1.0000000000</td>\n",
       "      <td>14.3000000000</td>\n",
       "      <td>2.5000000000</td>\n",
       "      <td>0.0000000000</td>\n",
       "    </tr>\n",
       "    <tr>\n",
       "      <th>1</th>\n",
       "      <td>2</td>\n",
       "      <td>2023-01-01 00:55:08</td>\n",
       "      <td>2023-01-01 01:01:27</td>\n",
       "      <td>1.0000000000</td>\n",
       "      <td>1.1000000000</td>\n",
       "      <td>1.0000000000</td>\n",
       "      <td>N</td>\n",
       "      <td>43</td>\n",
       "      <td>237</td>\n",
       "      <td>1</td>\n",
       "      <td>7.9000000000</td>\n",
       "      <td>1.0000000000</td>\n",
       "      <td>0.5000000000</td>\n",
       "      <td>4.0000000000</td>\n",
       "      <td>0.0000000000</td>\n",
       "      <td>1.0000000000</td>\n",
       "      <td>16.9000000000</td>\n",
       "      <td>2.5000000000</td>\n",
       "      <td>0.0000000000</td>\n",
       "    </tr>\n",
       "    <tr>\n",
       "      <th>2</th>\n",
       "      <td>2</td>\n",
       "      <td>2023-01-01 00:25:04</td>\n",
       "      <td>2023-01-01 00:37:49</td>\n",
       "      <td>1.0000000000</td>\n",
       "      <td>2.5100000000</td>\n",
       "      <td>1.0000000000</td>\n",
       "      <td>N</td>\n",
       "      <td>48</td>\n",
       "      <td>238</td>\n",
       "      <td>1</td>\n",
       "      <td>14.9000000000</td>\n",
       "      <td>1.0000000000</td>\n",
       "      <td>0.5000000000</td>\n",
       "      <td>15.0000000000</td>\n",
       "      <td>0.0000000000</td>\n",
       "      <td>1.0000000000</td>\n",
       "      <td>34.9000000000</td>\n",
       "      <td>2.5000000000</td>\n",
       "      <td>0.0000000000</td>\n",
       "    </tr>\n",
       "    <tr>\n",
       "      <th>3</th>\n",
       "      <td>1</td>\n",
       "      <td>2023-01-01 00:03:48</td>\n",
       "      <td>2023-01-01 00:13:25</td>\n",
       "      <td>0.0000000000</td>\n",
       "      <td>1.9000000000</td>\n",
       "      <td>1.0000000000</td>\n",
       "      <td>N</td>\n",
       "      <td>138</td>\n",
       "      <td>7</td>\n",
       "      <td>1</td>\n",
       "      <td>12.1000000000</td>\n",
       "      <td>7.2500000000</td>\n",
       "      <td>0.5000000000</td>\n",
       "      <td>0.0000000000</td>\n",
       "      <td>0.0000000000</td>\n",
       "      <td>1.0000000000</td>\n",
       "      <td>20.8500000000</td>\n",
       "      <td>0.0000000000</td>\n",
       "      <td>1.2500000000</td>\n",
       "    </tr>\n",
       "    <tr>\n",
       "      <th>4</th>\n",
       "      <td>2</td>\n",
       "      <td>2023-01-01 00:10:29</td>\n",
       "      <td>2023-01-01 00:21:19</td>\n",
       "      <td>1.0000000000</td>\n",
       "      <td>1.4300000000</td>\n",
       "      <td>1.0000000000</td>\n",
       "      <td>N</td>\n",
       "      <td>107</td>\n",
       "      <td>79</td>\n",
       "      <td>1</td>\n",
       "      <td>11.4000000000</td>\n",
       "      <td>1.0000000000</td>\n",
       "      <td>0.5000000000</td>\n",
       "      <td>3.2800000000</td>\n",
       "      <td>0.0000000000</td>\n",
       "      <td>1.0000000000</td>\n",
       "      <td>19.6800000000</td>\n",
       "      <td>2.5000000000</td>\n",
       "      <td>0.0000000000</td>\n",
       "    </tr>\n",
       "    <tr>\n",
       "      <th>...</th>\n",
       "      <td>...</td>\n",
       "      <td>...</td>\n",
       "      <td>...</td>\n",
       "      <td>...</td>\n",
       "      <td>...</td>\n",
       "      <td>...</td>\n",
       "      <td>...</td>\n",
       "      <td>...</td>\n",
       "      <td>...</td>\n",
       "      <td>...</td>\n",
       "      <td>...</td>\n",
       "      <td>...</td>\n",
       "      <td>...</td>\n",
       "      <td>...</td>\n",
       "      <td>...</td>\n",
       "      <td>...</td>\n",
       "      <td>...</td>\n",
       "      <td>...</td>\n",
       "      <td>...</td>\n",
       "    </tr>\n",
       "    <tr>\n",
       "      <th>3066761</th>\n",
       "      <td>2</td>\n",
       "      <td>2023-01-31 23:58:34</td>\n",
       "      <td>2023-02-01 00:12:33</td>\n",
       "      <td>NaN</td>\n",
       "      <td>3.0500000000</td>\n",
       "      <td>NaN</td>\n",
       "      <td>None</td>\n",
       "      <td>107</td>\n",
       "      <td>48</td>\n",
       "      <td>0</td>\n",
       "      <td>15.8000000000</td>\n",
       "      <td>0.0000000000</td>\n",
       "      <td>0.5000000000</td>\n",
       "      <td>3.9600000000</td>\n",
       "      <td>0.0000000000</td>\n",
       "      <td>1.0000000000</td>\n",
       "      <td>23.7600000000</td>\n",
       "      <td>NaN</td>\n",
       "      <td>NaN</td>\n",
       "    </tr>\n",
       "    <tr>\n",
       "      <th>3066762</th>\n",
       "      <td>2</td>\n",
       "      <td>2023-01-31 23:31:09</td>\n",
       "      <td>2023-01-31 23:50:36</td>\n",
       "      <td>NaN</td>\n",
       "      <td>5.8000000000</td>\n",
       "      <td>NaN</td>\n",
       "      <td>None</td>\n",
       "      <td>112</td>\n",
       "      <td>75</td>\n",
       "      <td>0</td>\n",
       "      <td>22.4300000000</td>\n",
       "      <td>0.0000000000</td>\n",
       "      <td>0.5000000000</td>\n",
       "      <td>2.6400000000</td>\n",
       "      <td>0.0000000000</td>\n",
       "      <td>1.0000000000</td>\n",
       "      <td>29.0700000000</td>\n",
       "      <td>NaN</td>\n",
       "      <td>NaN</td>\n",
       "    </tr>\n",
       "    <tr>\n",
       "      <th>3066763</th>\n",
       "      <td>2</td>\n",
       "      <td>2023-01-31 23:01:05</td>\n",
       "      <td>2023-01-31 23:25:36</td>\n",
       "      <td>NaN</td>\n",
       "      <td>4.6700000000</td>\n",
       "      <td>NaN</td>\n",
       "      <td>None</td>\n",
       "      <td>114</td>\n",
       "      <td>239</td>\n",
       "      <td>0</td>\n",
       "      <td>17.6100000000</td>\n",
       "      <td>0.0000000000</td>\n",
       "      <td>0.5000000000</td>\n",
       "      <td>5.3200000000</td>\n",
       "      <td>0.0000000000</td>\n",
       "      <td>1.0000000000</td>\n",
       "      <td>26.9300000000</td>\n",
       "      <td>NaN</td>\n",
       "      <td>NaN</td>\n",
       "    </tr>\n",
       "    <tr>\n",
       "      <th>3066764</th>\n",
       "      <td>2</td>\n",
       "      <td>2023-01-31 23:40:00</td>\n",
       "      <td>2023-01-31 23:53:00</td>\n",
       "      <td>NaN</td>\n",
       "      <td>3.1500000000</td>\n",
       "      <td>NaN</td>\n",
       "      <td>None</td>\n",
       "      <td>230</td>\n",
       "      <td>79</td>\n",
       "      <td>0</td>\n",
       "      <td>18.1500000000</td>\n",
       "      <td>0.0000000000</td>\n",
       "      <td>0.5000000000</td>\n",
       "      <td>4.4300000000</td>\n",
       "      <td>0.0000000000</td>\n",
       "      <td>1.0000000000</td>\n",
       "      <td>26.5800000000</td>\n",
       "      <td>NaN</td>\n",
       "      <td>NaN</td>\n",
       "    </tr>\n",
       "    <tr>\n",
       "      <th>3066765</th>\n",
       "      <td>2</td>\n",
       "      <td>2023-01-31 23:07:32</td>\n",
       "      <td>2023-01-31 23:21:56</td>\n",
       "      <td>NaN</td>\n",
       "      <td>2.8500000000</td>\n",
       "      <td>NaN</td>\n",
       "      <td>None</td>\n",
       "      <td>262</td>\n",
       "      <td>143</td>\n",
       "      <td>0</td>\n",
       "      <td>15.9700000000</td>\n",
       "      <td>0.0000000000</td>\n",
       "      <td>0.5000000000</td>\n",
       "      <td>2.0000000000</td>\n",
       "      <td>0.0000000000</td>\n",
       "      <td>1.0000000000</td>\n",
       "      <td>21.9700000000</td>\n",
       "      <td>NaN</td>\n",
       "      <td>NaN</td>\n",
       "    </tr>\n",
       "  </tbody>\n",
       "</table>\n",
       "<p>3066766 rows × 19 columns</p>\n",
       "</div>"
      ],
      "text/plain": [
       "         VendorID tpep_pickup_datetime tpep_dropoff_datetime  passenger_count  \\\n",
       "0               2  2023-01-01 00:32:10   2023-01-01 00:40:36     1.0000000000   \n",
       "1               2  2023-01-01 00:55:08   2023-01-01 01:01:27     1.0000000000   \n",
       "2               2  2023-01-01 00:25:04   2023-01-01 00:37:49     1.0000000000   \n",
       "3               1  2023-01-01 00:03:48   2023-01-01 00:13:25     0.0000000000   \n",
       "4               2  2023-01-01 00:10:29   2023-01-01 00:21:19     1.0000000000   \n",
       "...           ...                  ...                   ...              ...   \n",
       "3066761         2  2023-01-31 23:58:34   2023-02-01 00:12:33              NaN   \n",
       "3066762         2  2023-01-31 23:31:09   2023-01-31 23:50:36              NaN   \n",
       "3066763         2  2023-01-31 23:01:05   2023-01-31 23:25:36              NaN   \n",
       "3066764         2  2023-01-31 23:40:00   2023-01-31 23:53:00              NaN   \n",
       "3066765         2  2023-01-31 23:07:32   2023-01-31 23:21:56              NaN   \n",
       "\n",
       "         trip_distance   RatecodeID store_and_fwd_flag  PULocationID  \\\n",
       "0         0.9700000000 1.0000000000                  N           161   \n",
       "1         1.1000000000 1.0000000000                  N            43   \n",
       "2         2.5100000000 1.0000000000                  N            48   \n",
       "3         1.9000000000 1.0000000000                  N           138   \n",
       "4         1.4300000000 1.0000000000                  N           107   \n",
       "...                ...          ...                ...           ...   \n",
       "3066761   3.0500000000          NaN               None           107   \n",
       "3066762   5.8000000000          NaN               None           112   \n",
       "3066763   4.6700000000          NaN               None           114   \n",
       "3066764   3.1500000000          NaN               None           230   \n",
       "3066765   2.8500000000          NaN               None           262   \n",
       "\n",
       "         DOLocationID  payment_type   fare_amount        extra      mta_tax  \\\n",
       "0                 141             2  9.3000000000 1.0000000000 0.5000000000   \n",
       "1                 237             1  7.9000000000 1.0000000000 0.5000000000   \n",
       "2                 238             1 14.9000000000 1.0000000000 0.5000000000   \n",
       "3                   7             1 12.1000000000 7.2500000000 0.5000000000   \n",
       "4                  79             1 11.4000000000 1.0000000000 0.5000000000   \n",
       "...               ...           ...           ...          ...          ...   \n",
       "3066761            48             0 15.8000000000 0.0000000000 0.5000000000   \n",
       "3066762            75             0 22.4300000000 0.0000000000 0.5000000000   \n",
       "3066763           239             0 17.6100000000 0.0000000000 0.5000000000   \n",
       "3066764            79             0 18.1500000000 0.0000000000 0.5000000000   \n",
       "3066765           143             0 15.9700000000 0.0000000000 0.5000000000   \n",
       "\n",
       "           tip_amount  tolls_amount  improvement_surcharge  total_amount  \\\n",
       "0        0.0000000000  0.0000000000           1.0000000000 14.3000000000   \n",
       "1        4.0000000000  0.0000000000           1.0000000000 16.9000000000   \n",
       "2       15.0000000000  0.0000000000           1.0000000000 34.9000000000   \n",
       "3        0.0000000000  0.0000000000           1.0000000000 20.8500000000   \n",
       "4        3.2800000000  0.0000000000           1.0000000000 19.6800000000   \n",
       "...               ...           ...                    ...           ...   \n",
       "3066761  3.9600000000  0.0000000000           1.0000000000 23.7600000000   \n",
       "3066762  2.6400000000  0.0000000000           1.0000000000 29.0700000000   \n",
       "3066763  5.3200000000  0.0000000000           1.0000000000 26.9300000000   \n",
       "3066764  4.4300000000  0.0000000000           1.0000000000 26.5800000000   \n",
       "3066765  2.0000000000  0.0000000000           1.0000000000 21.9700000000   \n",
       "\n",
       "         congestion_surcharge  airport_fee  \n",
       "0                2.5000000000 0.0000000000  \n",
       "1                2.5000000000 0.0000000000  \n",
       "2                2.5000000000 0.0000000000  \n",
       "3                0.0000000000 1.2500000000  \n",
       "4                2.5000000000 0.0000000000  \n",
       "...                       ...          ...  \n",
       "3066761                   NaN          NaN  \n",
       "3066762                   NaN          NaN  \n",
       "3066763                   NaN          NaN  \n",
       "3066764                   NaN          NaN  \n",
       "3066765                   NaN          NaN  \n",
       "\n",
       "[3066766 rows x 19 columns]"
      ]
     },
     "execution_count": 54,
     "metadata": {},
     "output_type": "execute_result"
    }
   ],
   "source": [
    "#loading the dataset\n",
    "df = pd.read_parquet(r\"C:\\Users\\ASUS 1\\Desktop\\yellow_tripdata_2023-01.parquet\")\n",
    "df"
   ]
  },
  {
   "cell_type": "markdown",
   "id": "c46fe607-d967-4cdc-902e-1c0ed444e872",
   "metadata": {},
   "source": [
    "## 📌 Exploratory Data Analysis: "
   ]
  },
  {
   "cell_type": "code",
   "execution_count": 56,
   "id": "537bc248",
   "metadata": {},
   "outputs": [
    {
     "name": "stdout",
     "output_type": "stream",
     "text": [
      "<class 'pandas.core.frame.DataFrame'>\n",
      "RangeIndex: 3066766 entries, 0 to 3066765\n",
      "Data columns (total 19 columns):\n",
      " #   Column                 Dtype         \n",
      "---  ------                 -----         \n",
      " 0   VendorID               int64         \n",
      " 1   tpep_pickup_datetime   datetime64[us]\n",
      " 2   tpep_dropoff_datetime  datetime64[us]\n",
      " 3   passenger_count        float64       \n",
      " 4   trip_distance          float64       \n",
      " 5   RatecodeID             float64       \n",
      " 6   store_and_fwd_flag     object        \n",
      " 7   PULocationID           int64         \n",
      " 8   DOLocationID           int64         \n",
      " 9   payment_type           int64         \n",
      " 10  fare_amount            float64       \n",
      " 11  extra                  float64       \n",
      " 12  mta_tax                float64       \n",
      " 13  tip_amount             float64       \n",
      " 14  tolls_amount           float64       \n",
      " 15  improvement_surcharge  float64       \n",
      " 16  total_amount           float64       \n",
      " 17  congestion_surcharge   float64       \n",
      " 18  airport_fee            float64       \n",
      "dtypes: datetime64[us](2), float64(12), int64(4), object(1)\n",
      "memory usage: 444.6+ MB\n"
     ]
    }
   ],
   "source": [
    "df.info() #overview of the data "
   ]
  },
  {
   "cell_type": "code",
   "execution_count": 57,
   "id": "5c2dd353-9ec9-4f96-b350-9d15e039b209",
   "metadata": {},
   "outputs": [
    {
     "data": {
      "text/plain": [
       "0          8.4333333333\n",
       "1          6.3166666667\n",
       "2         12.7500000000\n",
       "3          9.6166666667\n",
       "4         10.8333333333\n",
       "               ...     \n",
       "3066761   13.9833333333\n",
       "3066762   19.4500000000\n",
       "3066763   24.5166666667\n",
       "3066764   13.0000000000\n",
       "3066765   14.4000000000\n",
       "Name: Duration, Length: 3066766, dtype: float64"
      ]
     },
     "execution_count": 57,
     "metadata": {},
     "output_type": "execute_result"
    }
   ],
   "source": [
    "#making a column which can help in our analysis\n",
    "df['Duration']= (df['tpep_dropoff_datetime']-df['tpep_pickup_datetime']).dt.total_seconds()/60\n",
    "df['Duration']"
   ]
  },
  {
   "cell_type": "code",
   "execution_count": 58,
   "id": "6eae1889-9876-46b0-b649-4147f35d6d16",
   "metadata": {},
   "outputs": [
    {
     "data": {
      "text/html": [
       "<div>\n",
       "<style scoped>\n",
       "    .dataframe tbody tr th:only-of-type {\n",
       "        vertical-align: middle;\n",
       "    }\n",
       "\n",
       "    .dataframe tbody tr th {\n",
       "        vertical-align: top;\n",
       "    }\n",
       "\n",
       "    .dataframe thead th {\n",
       "        text-align: right;\n",
       "    }\n",
       "</style>\n",
       "<table border=\"1\" class=\"dataframe\">\n",
       "  <thead>\n",
       "    <tr style=\"text-align: right;\">\n",
       "      <th></th>\n",
       "      <th>passenger_count</th>\n",
       "      <th>trip_distance</th>\n",
       "      <th>payment_type</th>\n",
       "      <th>fare_amount</th>\n",
       "      <th>Duration</th>\n",
       "    </tr>\n",
       "  </thead>\n",
       "  <tbody>\n",
       "    <tr>\n",
       "      <th>0</th>\n",
       "      <td>1.0000000000</td>\n",
       "      <td>0.9700000000</td>\n",
       "      <td>2</td>\n",
       "      <td>9.3000000000</td>\n",
       "      <td>8.4333333333</td>\n",
       "    </tr>\n",
       "    <tr>\n",
       "      <th>1</th>\n",
       "      <td>1.0000000000</td>\n",
       "      <td>1.1000000000</td>\n",
       "      <td>1</td>\n",
       "      <td>7.9000000000</td>\n",
       "      <td>6.3166666667</td>\n",
       "    </tr>\n",
       "    <tr>\n",
       "      <th>2</th>\n",
       "      <td>1.0000000000</td>\n",
       "      <td>2.5100000000</td>\n",
       "      <td>1</td>\n",
       "      <td>14.9000000000</td>\n",
       "      <td>12.7500000000</td>\n",
       "    </tr>\n",
       "    <tr>\n",
       "      <th>3</th>\n",
       "      <td>0.0000000000</td>\n",
       "      <td>1.9000000000</td>\n",
       "      <td>1</td>\n",
       "      <td>12.1000000000</td>\n",
       "      <td>9.6166666667</td>\n",
       "    </tr>\n",
       "    <tr>\n",
       "      <th>4</th>\n",
       "      <td>1.0000000000</td>\n",
       "      <td>1.4300000000</td>\n",
       "      <td>1</td>\n",
       "      <td>11.4000000000</td>\n",
       "      <td>10.8333333333</td>\n",
       "    </tr>\n",
       "    <tr>\n",
       "      <th>...</th>\n",
       "      <td>...</td>\n",
       "      <td>...</td>\n",
       "      <td>...</td>\n",
       "      <td>...</td>\n",
       "      <td>...</td>\n",
       "    </tr>\n",
       "    <tr>\n",
       "      <th>3066761</th>\n",
       "      <td>NaN</td>\n",
       "      <td>3.0500000000</td>\n",
       "      <td>0</td>\n",
       "      <td>15.8000000000</td>\n",
       "      <td>13.9833333333</td>\n",
       "    </tr>\n",
       "    <tr>\n",
       "      <th>3066762</th>\n",
       "      <td>NaN</td>\n",
       "      <td>5.8000000000</td>\n",
       "      <td>0</td>\n",
       "      <td>22.4300000000</td>\n",
       "      <td>19.4500000000</td>\n",
       "    </tr>\n",
       "    <tr>\n",
       "      <th>3066763</th>\n",
       "      <td>NaN</td>\n",
       "      <td>4.6700000000</td>\n",
       "      <td>0</td>\n",
       "      <td>17.6100000000</td>\n",
       "      <td>24.5166666667</td>\n",
       "    </tr>\n",
       "    <tr>\n",
       "      <th>3066764</th>\n",
       "      <td>NaN</td>\n",
       "      <td>3.1500000000</td>\n",
       "      <td>0</td>\n",
       "      <td>18.1500000000</td>\n",
       "      <td>13.0000000000</td>\n",
       "    </tr>\n",
       "    <tr>\n",
       "      <th>3066765</th>\n",
       "      <td>NaN</td>\n",
       "      <td>2.8500000000</td>\n",
       "      <td>0</td>\n",
       "      <td>15.9700000000</td>\n",
       "      <td>14.4000000000</td>\n",
       "    </tr>\n",
       "  </tbody>\n",
       "</table>\n",
       "<p>3066766 rows × 5 columns</p>\n",
       "</div>"
      ],
      "text/plain": [
       "         passenger_count  trip_distance  payment_type   fare_amount  \\\n",
       "0           1.0000000000   0.9700000000             2  9.3000000000   \n",
       "1           1.0000000000   1.1000000000             1  7.9000000000   \n",
       "2           1.0000000000   2.5100000000             1 14.9000000000   \n",
       "3           0.0000000000   1.9000000000             1 12.1000000000   \n",
       "4           1.0000000000   1.4300000000             1 11.4000000000   \n",
       "...                  ...            ...           ...           ...   \n",
       "3066761              NaN   3.0500000000             0 15.8000000000   \n",
       "3066762              NaN   5.8000000000             0 22.4300000000   \n",
       "3066763              NaN   4.6700000000             0 17.6100000000   \n",
       "3066764              NaN   3.1500000000             0 18.1500000000   \n",
       "3066765              NaN   2.8500000000             0 15.9700000000   \n",
       "\n",
       "             Duration  \n",
       "0        8.4333333333  \n",
       "1        6.3166666667  \n",
       "2       12.7500000000  \n",
       "3        9.6166666667  \n",
       "4       10.8333333333  \n",
       "...               ...  \n",
       "3066761 13.9833333333  \n",
       "3066762 19.4500000000  \n",
       "3066763 24.5166666667  \n",
       "3066764 13.0000000000  \n",
       "3066765 14.4000000000  \n",
       "\n",
       "[3066766 rows x 5 columns]"
      ]
     },
     "execution_count": 58,
     "metadata": {},
     "output_type": "execute_result"
    }
   ],
   "source": [
    "#taking only those column which can helpfull in this analysis\n",
    "df=df[['passenger_count','trip_distance','payment_type','fare_amount','Duration']]\n",
    "df"
   ]
  },
  {
   "cell_type": "code",
   "execution_count": 59,
   "id": "0830c107-f4e9-43c0-9ec6-6103f4586b89",
   "metadata": {},
   "outputs": [],
   "source": [
    "#changing the data type\n",
    "df['passenger_count'] = df['passenger_count'].astype('Int64')\n",
    "df['payment_type'] = df['payment_type'].astype('Int64')\n",
    "\n"
   ]
  },
  {
   "cell_type": "code",
   "execution_count": 60,
   "id": "d3c2b522-15ef-49b2-aea4-81c2ca466d43",
   "metadata": {},
   "outputs": [
    {
     "data": {
      "text/plain": [
       "(3066766, 5)"
      ]
     },
     "execution_count": 60,
     "metadata": {},
     "output_type": "execute_result"
    }
   ],
   "source": [
    "#checking total data\n",
    "df.shape"
   ]
  },
  {
   "cell_type": "code",
   "execution_count": 61,
   "id": "9216c0d7-3fd0-4bd8-9a45-fcf324aa8bd8",
   "metadata": {},
   "outputs": [
    {
     "data": {
      "text/plain": [
       "passenger_count    71743\n",
       "trip_distance          0\n",
       "payment_type           0\n",
       "fare_amount            0\n",
       "Duration               0\n",
       "dtype: int64"
      ]
     },
     "execution_count": 61,
     "metadata": {},
     "output_type": "execute_result"
    }
   ],
   "source": [
    "#checking for null values\n",
    "df.isnull().sum()\n"
   ]
  },
  {
   "cell_type": "code",
   "execution_count": 62,
   "id": "db1544c2-56a5-4f79-96f3-319e635dbd0a",
   "metadata": {},
   "outputs": [
    {
     "name": "stdout",
     "output_type": "stream",
     "text": [
      "total percentage of null values in passenger count columns is :2.34\n"
     ]
    }
   ],
   "source": [
    "null_values_percentage = df['passenger_count'].isnull().sum()/len(df)*100\n",
    "print(f\"total percentage of null values in passenger count columns is :{null_values_percentage:.2f}\")"
   ]
  },
  {
   "cell_type": "code",
   "execution_count": 63,
   "id": "b9d26a29-eb30-47da-9294-376ab44a4841",
   "metadata": {},
   "outputs": [
    {
     "name": "stdout",
     "output_type": "stream",
     "text": [
      "after removing the null values total data left(2995023, 5)\n"
     ]
    }
   ],
   "source": [
    "#removing duplicates\n",
    "df = df.dropna(subset=['passenger_count'])\n",
    "after_removing=df.shape\n",
    "print(f\"after removing the null values total data left{after_removing}\")\n"
   ]
  },
  {
   "cell_type": "code",
   "execution_count": 64,
   "id": "f8241653-574d-4fbc-aab9-ab2eb2947b87",
   "metadata": {},
   "outputs": [
    {
     "name": "stdout",
     "output_type": "stream",
     "text": [
      "duplicate value are:1191207\n",
      "Total duplicate percentage is:39.77 %\n"
     ]
    }
   ],
   "source": [
    "#check for duplicates value\n",
    "duplicates = df.duplicated().sum()\n",
    "print(f\"duplicate value are:{duplicates}\")\n",
    "duplicates_percentage = df.duplicated().sum()/len(df)*100\n",
    "print(f'Total duplicate percentage is:{duplicates_percentage:.2f} %')\n"
   ]
  },
  {
   "cell_type": "code",
   "execution_count": 65,
   "id": "a4ac199c-3f51-48d6-b970-e789ab5bd321",
   "metadata": {},
   "outputs": [],
   "source": [
    "#drop duplicate values\n",
    "df.drop_duplicates(inplace=True)\n"
   ]
  },
  {
   "cell_type": "code",
   "execution_count": 66,
   "id": "3e3bc452-19ca-47e0-b41e-9691b45b7e90",
   "metadata": {},
   "outputs": [
    {
     "name": "stdout",
     "output_type": "stream",
     "text": [
      "after droping the duplicate values:(1803816, 5)\n"
     ]
    }
   ],
   "source": [
    "new_shape = df.shape\n",
    "print(f'after droping the duplicate values:{new_shape}')"
   ]
  },
  {
   "cell_type": "code",
   "execution_count": 67,
   "id": "9d064426-b059-49fa-8074-514f077d095c",
   "metadata": {},
   "outputs": [
    {
     "data": {
      "text/plain": [
       "passenger_count\n",
       "1   0.6633780829\n",
       "2   0.1934260479\n",
       "3   0.0540337817\n",
       "4   0.0286326322\n",
       "5   0.0227933448\n",
       "0   0.0225139371\n",
       "6   0.0152110858\n",
       "8   0.0000072069\n",
       "7   0.0000033263\n",
       "9   0.0000005544\n",
       "Name: proportion, dtype: Float64"
      ]
     },
     "execution_count": 67,
     "metadata": {},
     "output_type": "execute_result"
    }
   ],
   "source": [
    "#checking distribution of specific columns:\n",
    "# Set Pandas to display full decimal values instead of scientific notation\n",
    "pd.options.display.float_format = '{:.10f}'.format  \n",
    "df['passenger_count'].value_counts(normalize=True)\n"
   ]
  },
  {
   "cell_type": "code",
   "execution_count": 68,
   "id": "8607c8cc-3a87-4c2e-a09c-905a7238fb40",
   "metadata": {},
   "outputs": [
    {
     "data": {
      "text/plain": [
       "payment_type\n",
       "1   0.7469836170\n",
       "2   0.2281945609\n",
       "4   0.0169335453\n",
       "3   0.0078882769\n",
       "Name: proportion, dtype: Float64"
      ]
     },
     "execution_count": 68,
     "metadata": {},
     "output_type": "execute_result"
    }
   ],
   "source": [
    "df['payment_type'].value_counts(normalize=True)"
   ]
  },
  {
   "cell_type": "markdown",
   "id": "e3ef871b-dd2b-4270-9ead-d5952df06f61",
   "metadata": {},
   "source": [
    "### Passenger Count:\n",
    "Since typical NYC taxi rides are not expected to have more than 6 passengers—and rides with more than 6 passengers contribute minimally to our analysis—we have filtered out any records where passenger_count exceeds 6.\n",
    "\n",
    "### Payment Type:\n",
    "For our analysis, we are focusing exclusively on the two primary payment methods: cash and credit card. Therefore, we have filtered the dataset to include only rides where the payment type is either cash or credit card."
   ]
  },
  {
   "cell_type": "code",
   "execution_count": 70,
   "id": "03c3bdc9-2689-4326-a4ae-2bc5915f37f3",
   "metadata": {},
   "outputs": [
    {
     "name": "stdout",
     "output_type": "stream",
     "text": [
      "after filtering :(1692444, 5)\n"
     ]
    }
   ],
   "source": [
    "df = df.query('passenger_count >0 & passenger_count<6')\n",
    "df = df.query('payment_type<3')\n",
    "after_filtering = df.shape\n",
    "print(f'after filtering :{after_filtering}')"
   ]
  },
  {
   "cell_type": "code",
   "execution_count": 71,
   "id": "b897645f-fc14-45f9-9262-1ea1108e3afc",
   "metadata": {},
   "outputs": [
    {
     "data": {
      "text/html": [
       "<div>\n",
       "<style scoped>\n",
       "    .dataframe tbody tr th:only-of-type {\n",
       "        vertical-align: middle;\n",
       "    }\n",
       "\n",
       "    .dataframe tbody tr th {\n",
       "        vertical-align: top;\n",
       "    }\n",
       "\n",
       "    .dataframe thead th {\n",
       "        text-align: right;\n",
       "    }\n",
       "</style>\n",
       "<table border=\"1\" class=\"dataframe\">\n",
       "  <thead>\n",
       "    <tr style=\"text-align: right;\">\n",
       "      <th></th>\n",
       "      <th>payment_type</th>\n",
       "    </tr>\n",
       "  </thead>\n",
       "  <tbody>\n",
       "    <tr>\n",
       "      <th>0</th>\n",
       "      <td>cash</td>\n",
       "    </tr>\n",
       "    <tr>\n",
       "      <th>1</th>\n",
       "      <td>card</td>\n",
       "    </tr>\n",
       "    <tr>\n",
       "      <th>2</th>\n",
       "      <td>card</td>\n",
       "    </tr>\n",
       "    <tr>\n",
       "      <th>4</th>\n",
       "      <td>card</td>\n",
       "    </tr>\n",
       "    <tr>\n",
       "      <th>5</th>\n",
       "      <td>card</td>\n",
       "    </tr>\n",
       "  </tbody>\n",
       "</table>\n",
       "</div>"
      ],
      "text/plain": [
       "  payment_type\n",
       "0         cash\n",
       "1         card\n",
       "2         card\n",
       "4         card\n",
       "5         card"
      ]
     },
     "execution_count": 71,
     "metadata": {},
     "output_type": "execute_result"
    }
   ],
   "source": [
    "# Convert the column to string and then replace values\n",
    "df['payment_type'] = df['payment_type'].astype(str).replace({'1': 'card', '2': 'cash'})\n",
    "df[['payment_type']].head(5)"
   ]
  },
  {
   "cell_type": "markdown",
   "id": "9caa22d9-ec99-49c8-a437-96b1a5f1aa21",
   "metadata": {},
   "source": [
    "### Statistical Summary"
   ]
  },
  {
   "cell_type": "code",
   "execution_count": 73,
   "id": "9c7469f2-1eaa-49cd-8e31-72f7ba9adb1f",
   "metadata": {},
   "outputs": [
    {
     "data": {
      "text/html": [
       "<div>\n",
       "<style scoped>\n",
       "    .dataframe tbody tr th:only-of-type {\n",
       "        vertical-align: middle;\n",
       "    }\n",
       "\n",
       "    .dataframe tbody tr th {\n",
       "        vertical-align: top;\n",
       "    }\n",
       "\n",
       "    .dataframe thead th {\n",
       "        text-align: right;\n",
       "    }\n",
       "</style>\n",
       "<table border=\"1\" class=\"dataframe\">\n",
       "  <thead>\n",
       "    <tr style=\"text-align: right;\">\n",
       "      <th></th>\n",
       "      <th>passenger_count</th>\n",
       "      <th>trip_distance</th>\n",
       "      <th>fare_amount</th>\n",
       "      <th>Duration</th>\n",
       "    </tr>\n",
       "  </thead>\n",
       "  <tbody>\n",
       "    <tr>\n",
       "      <th>count</th>\n",
       "      <td>1692444.0000000000</td>\n",
       "      <td>1692444.0000000000</td>\n",
       "      <td>1692444.0000000000</td>\n",
       "      <td>1692444.0000000000</td>\n",
       "    </tr>\n",
       "    <tr>\n",
       "      <th>mean</th>\n",
       "      <td>1.5019451161</td>\n",
       "      <td>4.8760649392</td>\n",
       "      <td>24.2009338330</td>\n",
       "      <td>20.5432628889</td>\n",
       "    </tr>\n",
       "    <tr>\n",
       "      <th>std</th>\n",
       "      <td>0.9125023812</td>\n",
       "      <td>55.9302572553</td>\n",
       "      <td>20.4781648876</td>\n",
       "      <td>55.5370555513</td>\n",
       "    </tr>\n",
       "    <tr>\n",
       "      <th>min</th>\n",
       "      <td>1.0000000000</td>\n",
       "      <td>0.0000000000</td>\n",
       "      <td>-495.1000000000</td>\n",
       "      <td>-29.2000000000</td>\n",
       "    </tr>\n",
       "    <tr>\n",
       "      <th>25%</th>\n",
       "      <td>1.0000000000</td>\n",
       "      <td>1.5000000000</td>\n",
       "      <td>11.4000000000</td>\n",
       "      <td>9.9666666667</td>\n",
       "    </tr>\n",
       "    <tr>\n",
       "      <th>50%</th>\n",
       "      <td>1.0000000000</td>\n",
       "      <td>2.6800000000</td>\n",
       "      <td>17.0000000000</td>\n",
       "      <td>15.6833333333</td>\n",
       "    </tr>\n",
       "    <tr>\n",
       "      <th>75%</th>\n",
       "      <td>2.0000000000</td>\n",
       "      <td>5.6000000000</td>\n",
       "      <td>28.9000000000</td>\n",
       "      <td>23.4500000000</td>\n",
       "    </tr>\n",
       "    <tr>\n",
       "      <th>max</th>\n",
       "      <td>5.0000000000</td>\n",
       "      <td>62359.5200000000</td>\n",
       "      <td>1160.1000000000</td>\n",
       "      <td>10029.1833333333</td>\n",
       "    </tr>\n",
       "  </tbody>\n",
       "</table>\n",
       "</div>"
      ],
      "text/plain": [
       "         passenger_count      trip_distance        fare_amount  \\\n",
       "count 1692444.0000000000 1692444.0000000000 1692444.0000000000   \n",
       "mean        1.5019451161       4.8760649392      24.2009338330   \n",
       "std         0.9125023812      55.9302572553      20.4781648876   \n",
       "min         1.0000000000       0.0000000000    -495.1000000000   \n",
       "25%         1.0000000000       1.5000000000      11.4000000000   \n",
       "50%         1.0000000000       2.6800000000      17.0000000000   \n",
       "75%         2.0000000000       5.6000000000      28.9000000000   \n",
       "max         5.0000000000   62359.5200000000    1160.1000000000   \n",
       "\n",
       "                Duration  \n",
       "count 1692444.0000000000  \n",
       "mean       20.5432628889  \n",
       "std        55.5370555513  \n",
       "min       -29.2000000000  \n",
       "25%         9.9666666667  \n",
       "50%        15.6833333333  \n",
       "75%        23.4500000000  \n",
       "max     10029.1833333333  "
      ]
     },
     "execution_count": 73,
     "metadata": {},
     "output_type": "execute_result"
    }
   ],
   "source": [
    "df.describe()"
   ]
  },
  {
   "cell_type": "markdown",
   "id": "c712658d-ba18-49ff-bd86-d955e47745ab",
   "metadata": {},
   "source": [
    "Observations-\n",
    "\n",
    "Passenger_count: Ranges from 1 to 5, which seems reasonable.\n",
    "\n",
    "Trip_distance: Median is 2.68, 75th percentile is 5.6, but the max is 62,359.52 miles.\n",
    "This indicates extreme high values that are likely errors or rare events.\n",
    "\n",
    "Fare_amount: The median is 17.00 and the 75th percentile is 28.90, but you have a negative minimum (-495.10) and a maximum of 1160.10.\n",
    "Negative fares are likely data errors, and the extremely high fare might be an outlier.\n",
    "\n",
    "Duration: Median is 15.68 minutes and 75th percentile is 23.45 minutes, but the min is -29.20 and the max is over 10,000 minutes.\n",
    "Negative durations are clearly erroneous, and the extremely high duration values need further investigation."
   ]
  },
  {
   "cell_type": "code",
   "execution_count": 75,
   "id": "b805cf16-c45a-4e03-8973-16c514113f62",
   "metadata": {},
   "outputs": [],
   "source": [
    "#droping negative values\n",
    "df = df.query('fare_amount > 0 & Duration > 0 & trip_distance > 0')\n",
    "\n"
   ]
  },
  {
   "cell_type": "markdown",
   "id": "0ab8cf7f-a722-4c03-87a4-2759b9cf2a18",
   "metadata": {},
   "source": [
    "### Checking outliers"
   ]
  },
  {
   "cell_type": "code",
   "execution_count": 111,
   "id": "83724921-a19e-4601-ab4e-0228807d3113",
   "metadata": {},
   "outputs": [
    {
     "data": {
      "image/png": "[encoded data removed]",
      "text/plain": [
       "<Figure size 800x400 with 1 Axes>"
      ]
     },
     "metadata": {},
     "output_type": "display_data"
    },
    {
     "data": {
      "image/png": "[encoded data removed]",
      "text/plain": [
       "<Figure size 800x400 with 1 Axes>"
      ]
     },
     "metadata": {},
     "output_type": "display_data"
    },
    {
     "data": {
      "image/png": "[encoded data removed]",
      "text/plain": [
       "<Figure size 800x400 with 1 Axes>"
      ]
     },
     "metadata": {},
     "output_type": "display_data"
    },
    {
     "data": {
      "image/png": "[encoded data removed]",
      "text/plain": [
       "<Figure size 800x400 with 1 Axes>"
      ]
     },
     "metadata": {},
     "output_type": "display_data"
    },
    {
     "data": {
      "image/png": "[encoded data removed]",
      "text/plain": [
       "<Figure size 800x400 with 1 Axes>"
      ]
     },
     "metadata": {},
     "output_type": "display_data"
    },
    {
     "data": {
      "image/png": "[encoded data removed]",
      "text/plain": [
       "<Figure size 800x400 with 1 Axes>"
      ]
     },
     "metadata": {},
     "output_type": "display_data"
    }
   ],
   "source": [
    "# List of columns to visualize\n",
    "cols = ['trip_distance', 'fare_amount', 'Duration']\n",
    "#using boxplot\n",
    "for col in cols:\n",
    "    plt.figure(figsize=(8,4))\n",
    "    sns.boxplot(x=df[col])\n",
    "    plt.title(f'box plot of {col}')\n",
    "    plt.show()\n",
    "#using histogram\n",
    "    plt.figure(figsize=(8,4))\n",
    "    sns.histplot(df[col],bins=100,kde=True)\n",
    "    plt.title(f'histogram of {col}')\n",
    "    plt.show()"
   ]
  },
  {
   "cell_type": "markdown",
   "id": "ac46295f-7720-4d4a-a3c4-66a06c803972",
   "metadata": {},
   "source": [
    "After plotting both boxplots and histograms for the trip_distance, fare_amount, and Duration columns, I observed that each variable contains a significant number of extreme values (outliers). These outliers cause heavy right-skew in the distributions, making it difficult to visualize the main cluster of data.\n",
    "\n",
    "Next Step:\n",
    "I will proceed with a systematic approach (e.g., IQR method) to remove or cap these extreme values so that my analysis and statistical tests are not overly influenced by a relatively small number of anomalous points. By handling these outliers, I aim to improve the reliability of the insights drawn from the data."
   ]
  },
  {
   "cell_type": "markdown",
   "id": "ce152948-ce5b-4254-afab-16e62c360865",
   "metadata": {},
   "source": [
    "### Removing outliers\n"
   ]
  },
  {
   "cell_type": "code",
   "execution_count": 96,
   "id": "b5245194-5677-4f91-a551-de191063eec0",
   "metadata": {},
   "outputs": [],
   "source": [
    "#using IQR method\n",
    "cols = ['trip_distance', 'fare_amount', 'Duration']\n",
    "for col in cols:\n",
    "    q1= df[col].quantile(0.25)\n",
    "    q3= df[col].quantile(0.75)\n",
    "    iqr = q3-q1\n",
    "    lower_bound = q1-1.5*iqr\n",
    "    upper_bound = q3+1.5*iqr\n",
    "    df = df.query(f\"{col} >= @lower_bound and {col} <= @upper_bound\")\n",
    "    \n"
   ]
  },
  {
   "cell_type": "code",
   "execution_count": 98,
   "id": "49fa6f22-cc2e-4489-b0b9-5d7944baae12",
   "metadata": {},
   "outputs": [
    {
     "data": {
      "text/html": [
       "<div>\n",
       "<style scoped>\n",
       "    .dataframe tbody tr th:only-of-type {\n",
       "        vertical-align: middle;\n",
       "    }\n",
       "\n",
       "    .dataframe tbody tr th {\n",
       "        vertical-align: top;\n",
       "    }\n",
       "\n",
       "    .dataframe thead th {\n",
       "        text-align: right;\n",
       "    }\n",
       "</style>\n",
       "<table border=\"1\" class=\"dataframe\">\n",
       "  <thead>\n",
       "    <tr style=\"text-align: right;\">\n",
       "      <th></th>\n",
       "      <th>passenger_count</th>\n",
       "      <th>trip_distance</th>\n",
       "      <th>payment_type</th>\n",
       "      <th>fare_amount</th>\n",
       "      <th>Duration</th>\n",
       "    </tr>\n",
       "  </thead>\n",
       "  <tbody>\n",
       "    <tr>\n",
       "      <th>0</th>\n",
       "      <td>1</td>\n",
       "      <td>0.9700000000</td>\n",
       "      <td>cash</td>\n",
       "      <td>9.3000000000</td>\n",
       "      <td>8.4333333333</td>\n",
       "    </tr>\n",
       "    <tr>\n",
       "      <th>1</th>\n",
       "      <td>1</td>\n",
       "      <td>1.1000000000</td>\n",
       "      <td>card</td>\n",
       "      <td>7.9000000000</td>\n",
       "      <td>6.3166666667</td>\n",
       "    </tr>\n",
       "    <tr>\n",
       "      <th>2</th>\n",
       "      <td>1</td>\n",
       "      <td>2.5100000000</td>\n",
       "      <td>card</td>\n",
       "      <td>14.9000000000</td>\n",
       "      <td>12.7500000000</td>\n",
       "    </tr>\n",
       "    <tr>\n",
       "      <th>4</th>\n",
       "      <td>1</td>\n",
       "      <td>1.4300000000</td>\n",
       "      <td>card</td>\n",
       "      <td>11.4000000000</td>\n",
       "      <td>10.8333333333</td>\n",
       "    </tr>\n",
       "    <tr>\n",
       "      <th>5</th>\n",
       "      <td>1</td>\n",
       "      <td>1.8400000000</td>\n",
       "      <td>card</td>\n",
       "      <td>12.8000000000</td>\n",
       "      <td>12.3000000000</td>\n",
       "    </tr>\n",
       "    <tr>\n",
       "      <th>...</th>\n",
       "      <td>...</td>\n",
       "      <td>...</td>\n",
       "      <td>...</td>\n",
       "      <td>...</td>\n",
       "      <td>...</td>\n",
       "    </tr>\n",
       "    <tr>\n",
       "      <th>2995014</th>\n",
       "      <td>2</td>\n",
       "      <td>1.7400000000</td>\n",
       "      <td>card</td>\n",
       "      <td>11.4000000000</td>\n",
       "      <td>9.9666666667</td>\n",
       "    </tr>\n",
       "    <tr>\n",
       "      <th>2995015</th>\n",
       "      <td>1</td>\n",
       "      <td>2.8400000000</td>\n",
       "      <td>card</td>\n",
       "      <td>13.5000000000</td>\n",
       "      <td>7.7500000000</td>\n",
       "    </tr>\n",
       "    <tr>\n",
       "      <th>2995016</th>\n",
       "      <td>1</td>\n",
       "      <td>7.4000000000</td>\n",
       "      <td>card</td>\n",
       "      <td>29.6000000000</td>\n",
       "      <td>12.7166666667</td>\n",
       "    </tr>\n",
       "    <tr>\n",
       "      <th>2995019</th>\n",
       "      <td>1</td>\n",
       "      <td>3.3700000000</td>\n",
       "      <td>card</td>\n",
       "      <td>15.6000000000</td>\n",
       "      <td>10.8666666667</td>\n",
       "    </tr>\n",
       "    <tr>\n",
       "      <th>2995021</th>\n",
       "      <td>2</td>\n",
       "      <td>3.8000000000</td>\n",
       "      <td>card</td>\n",
       "      <td>17.7000000000</td>\n",
       "      <td>10.7666666667</td>\n",
       "    </tr>\n",
       "  </tbody>\n",
       "</table>\n",
       "<p>1396856 rows × 5 columns</p>\n",
       "</div>"
      ],
      "text/plain": [
       "         passenger_count  trip_distance payment_type   fare_amount  \\\n",
       "0                      1   0.9700000000         cash  9.3000000000   \n",
       "1                      1   1.1000000000         card  7.9000000000   \n",
       "2                      1   2.5100000000         card 14.9000000000   \n",
       "4                      1   1.4300000000         card 11.4000000000   \n",
       "5                      1   1.8400000000         card 12.8000000000   \n",
       "...                  ...            ...          ...           ...   \n",
       "2995014                2   1.7400000000         card 11.4000000000   \n",
       "2995015                1   2.8400000000         card 13.5000000000   \n",
       "2995016                1   7.4000000000         card 29.6000000000   \n",
       "2995019                1   3.3700000000         card 15.6000000000   \n",
       "2995021                2   3.8000000000         card 17.7000000000   \n",
       "\n",
       "             Duration  \n",
       "0        8.4333333333  \n",
       "1        6.3166666667  \n",
       "2       12.7500000000  \n",
       "4       10.8333333333  \n",
       "5       12.3000000000  \n",
       "...               ...  \n",
       "2995014  9.9666666667  \n",
       "2995015  7.7500000000  \n",
       "2995016 12.7166666667  \n",
       "2995019 10.8666666667  \n",
       "2995021 10.7666666667  \n",
       "\n",
       "[1396856 rows x 5 columns]"
      ]
     },
     "execution_count": 98,
     "metadata": {},
     "output_type": "execute_result"
    }
   ],
   "source": [
    "df"
   ]
  },
  {
   "cell_type": "markdown",
   "id": "16a632fc-a4da-4ae7-a818-0e7d4dcd5245",
   "metadata": {},
   "source": [
    "## Feature Analysis: Understanding Fare Amount,Passenger Count & Trip Distance by Payment Type"
   ]
  },
  {
   "cell_type": "code",
   "execution_count": 34,
   "id": "67b85a71-64b0-49fb-91ef-4d1cbf9aa806",
   "metadata": {},
   "outputs": [
    {
     "data": {
      "image/png": "[encoded data removed]",
      "text/plain": [
       "<Figure size 800x500 with 1 Axes>"
      ]
     },
     "metadata": {},
     "output_type": "display_data"
    }
   ],
   "source": [
    "# Set a consistent color theme\n",
    "custom_palette = {\"cash\": \"#6C757D\", \"card\":  \"#FFC300\"}  # Light peach for cash, deep red for card\n",
    "plt.figure(figsize=(8, 5))\n",
    "#using countplot\n",
    "sns.countplot(x=df['payment_type'], palette=custom_palette)\n",
    "plt.title(\"Distribution of Payment Types\")\n",
    "plt.xlabel(\"Payment Type\")\n",
    "plt.ylabel(\"Count\")\n",
    "plt.show()\n"
   ]
  },
  {
   "cell_type": "markdown",
   "id": "e5cd4419-332c-4b0e-9334-1a7d6ae091a9",
   "metadata": {},
   "source": [
    "### 🔍 Observations from the Countplot:\n",
    "Card payments are significantly higher than cash payments.\n",
    " passengers might prefer card payments due to convenience and speed."
   ]
  },
  {
   "cell_type": "code",
   "execution_count": 36,
   "id": "deae3dac-92e8-477f-ba79-21bc1a4f1f7c",
   "metadata": {},
   "outputs": [
    {
     "data": {
      "image/png": "[encoded data removed]",
      "text/plain": [
       "<Figure size 1200x500 with 2 Axes>"
      ]
     },
     "metadata": {},
     "output_type": "display_data"
    }
   ],
   "source": [
    "\n",
    "\n",
    "plt.figure(figsize=(12, 5))\n",
    "\n",
    "# Subplot 1: Distribution of fare amount\n",
    "plt.subplot(1, 2, 1)\n",
    "plt.title('Distribution of Fare Amount')\n",
    "plt.hist(df[df['payment_type'] == 'card']['fare_amount'],\n",
    "         histtype='barstacked', bins=20, edgecolor='k',\n",
    "         color=custom_palette['card'], label='Card')\n",
    "plt.hist(df[df['payment_type'] == 'cash']['fare_amount'],\n",
    "         histtype='barstacked', bins=20, edgecolor='k',\n",
    "         color=custom_palette['cash'], label='Cash')\n",
    "plt.legend()\n",
    "\n",
    "# Subplot 2: Distribution of trip distance\n",
    "plt.subplot(1, 2, 2)\n",
    "plt.title('Distribution of Trip Distance')\n",
    "plt.hist(df[df['payment_type'] == 'card']['trip_distance'],\n",
    "         histtype='barstacked', bins=20, edgecolor='k',\n",
    "         color=custom_palette['card'], label='Card')\n",
    "plt.hist(df[df['payment_type'] == 'cash']['trip_distance'],\n",
    "         histtype='barstacked', bins=20, edgecolor='k',\n",
    "         color=custom_palette['cash'], label='Cash')\n",
    "plt.legend()\n",
    "\n",
    "plt.tight_layout()  # Improves subplot spacing\n",
    "plt.show()\n"
   ]
  },
  {
   "cell_type": "markdown",
   "id": "11a04bd0-d2d4-48e0-a88e-1bd182753de9",
   "metadata": {},
   "source": [
    "🔍Observations\n",
    "Card vs. Cash\n",
    "The yellow bars (Card) generally dominate at higher fare amounts, suggesting card payments might be more common for pricier trips.\n",
    "The gray bars (Cash) peak somewhat lower but still overlap significantly.\n",
    "\n",
    "Skewed Distribution\n",
    "Even after outlier removal, fares can remain right‐skewed—some longer, costlier trips are valid.\n",
    "\n",
    "Multiple Peaks\n",
    "The distribution looks somewhat “multi‐modal” (multiple small peaks). This might reflect different rate zones or typical trip patterns (e.g., short local rides vs. airport trips).\n"
   ]
  },
  {
   "cell_type": "code",
   "execution_count": 55,
   "id": "0b91cee3-3df4-45d0-9131-25275f17aa32",
   "metadata": {},
   "outputs": [
    {
     "data": {
      "image/png": "[encoded data removed]",
      "text/plain": [
       "<Figure size 1000x500 with 1 Axes>"
      ]
     },
     "metadata": {},
     "output_type": "display_data"
    }
   ],
   "source": [
    "#using stack bar chart we are analyzing passenger count and payment type\n",
    "# 1) Count how many rides belong to each (payment_type, passenger_count)\n",
    "df_group = df.groupby(['payment_type', 'passenger_count']).size().reset_index(name='count')\n",
    "\n",
    "# 2) Also find how many rides belong to each payment_type overall\n",
    "df_payment = df_group.groupby('payment_type')['count'].sum().reset_index(name='payment_count')\n",
    "\n",
    "# 3) Calculate total rides\n",
    "total_rides = df_payment['payment_count'].sum()\n",
    "\n",
    "# 4) Merge data so each row has both:\n",
    "#    - passenger_count\n",
    "#    - payment_type\n",
    "#    - count (rides in that group)\n",
    "#    - payment_count (total rides for that payment type)\n",
    "df_merged = pd.merge(df_group, df_payment, on='payment_type')\n",
    "\n",
    "# 5) Calculate proportion_of_total for each segment (passenger_count within payment_type)\n",
    "#    relative to the ENTIRE dataset\n",
    "df_merged['prop_of_total'] = df_merged['count'] / total_rides\n",
    "\n",
    "# 6) Pivot so rows = payment_type, columns = passenger_count, values = prop_of_total\n",
    "df_pivot = df_merged.pivot(index='payment_type', columns='passenger_count', values='prop_of_total').fillna(0)\n",
    "\n",
    "# 7) Sort passenger_count columns if needed\n",
    "#    (e.g., passenger_count from 1 to 5)\n",
    "df_pivot = df_pivot[sorted(df_pivot.columns)]\n",
    "\n",
    "# 8) We'll plot two horizontal bars (one for each payment_type),\n",
    "#    each subdivided by passenger_count, summing to the proportion_of_total\n",
    "#    for that payment type.\n",
    "fig, ax = plt.subplots(figsize=(10, 5))\n",
    "\n",
    "# We'll track the left edge of each segment\n",
    "y_positions = [0, 1]  # top bar = 0, bottom bar = 1\n",
    "bar_height = 0.6\n",
    "\n",
    "# Define a custom palette for passenger_count (5 categories)\n",
    "passenger_colors = [\"#FFD400\", \"#FFB800\", \"#FFA600\", \"#FF8F00\", \"#FF7700\"]\n",
    "\n",
    "# We'll plot from left to right. Each row is a bar: \"cash\" or \"card\"\n",
    "payment_types = df_pivot.index.tolist()\n",
    "\n",
    "for i, ptype in enumerate(payment_types):\n",
    "    # This row is a Series with passenger_count=1..5 proportions\n",
    "    row_data = df_pivot.loc[ptype]\n",
    "    left_edge = 0.0\n",
    "    \n",
    "    for j, (pcount, val) in enumerate(row_data.items()):\n",
    "        if val > 0:\n",
    "            # Plot a rectangle from left_edge to left_edge+val\n",
    "            ax.barh(\n",
    "                y=y_positions[i],\n",
    "                width=val,\n",
    "                left=left_edge,\n",
    "                height=bar_height,\n",
    "                color=passenger_colors[j % len(passenger_colors)],\n",
    "                edgecolor='white'\n",
    "            )\n",
    "            \n",
    "            # Add percentage label if segment > 1%\n",
    "            if val > 0.01:\n",
    "                ax.text(\n",
    "                    left_edge + val/2,\n",
    "                    y_positions[i],\n",
    "                    f\"{val*100:.0f}%\",\n",
    "                    ha='center', va='center', color='black', fontsize=9\n",
    "                )\n",
    "            \n",
    "            left_edge += val\n",
    "    \n",
    "    # Also label the entire bar with the total proportion for that payment_type\n",
    "    # sum of row_data is proportion_of_dataset for that payment_type\n",
    "    total_prop = row_data.sum()\n",
    "    ax.text(\n",
    "        total_prop + 0.01,  # place text slightly to the right\n",
    "        y_positions[i],\n",
    "        f\"{(total_prop*100):.0f}%\", \n",
    "        ha='left', va='center', color='black', fontsize=10, fontweight='bold'\n",
    "    )\n",
    "\n",
    "# Format y-axis ticks with the payment_type labels\n",
    "ax.set_yticks(y_positions)\n",
    "ax.set_yticklabels(payment_types, fontsize=11)\n",
    "\n",
    "ax.set_xlim(0, 1)  # 0% to 100%\n",
    "ax.set_ylim(-0.5, 1.5)\n",
    "\n",
    "ax.set_xlabel(\"Proportion of Entire Dataset\", fontsize=11)\n",
    "ax.set_ylabel(\"Payment Type\", fontsize=11)\n",
    "ax.set_title(\"Payment Type vs. Passenger Count as Proportions of Entire Dataset\", fontsize=13)\n",
    "\n",
    "# Create a custom legend for passenger_count\n",
    "# (just show squares for 1..5)\n",
    "handles = []\n",
    "labels = []\n",
    "for idx, col in enumerate(df_pivot.columns):\n",
    "    patch = plt.Rectangle((0, 0), 1, 1, color=passenger_colors[idx], edgecolor='white')\n",
    "    handles.append(patch)\n",
    "    labels.append(str(col))\n",
    "\n",
    "legend = ax.legend(handles, labels, title=\"Passenger Count\", bbox_to_anchor=(1.0, 1.0))\n",
    "plt.tight_layout()\n",
    "plt.show()\n"
   ]
  },
  {
   "cell_type": "markdown",
   "id": "53c5c647-87a1-43e8-a018-f951b14b2ec0",
   "metadata": {},
   "source": [
    "🔍Observations\n",
    "Overall Dataset Distribution\n",
    "\n",
    "Card payments represent about 76% of all rides, while cash payments make up the remaining 24%.\n",
    "This indicates that card usage dominates in the dataset.\n",
    "Passenger Count Breakdown\n",
    "\n",
    "For card rides:\n",
    "51% of the entire dataset consists of single-passenger trips paid by card.\n",
    "The remaining 25% (within card) are multi-passenger trips of 2 or more people.\n",
    "For cash rides:\n",
    "17% of the entire dataset are single-passenger cash rides.\n",
    "The remaining 7% are multi-passenger cash rides.\n",
    "Single-Passenger Dominance\n",
    "\n",
    "Combining both payment types, single-passenger trips constitute the majority of rides (over two-thirds of the dataset).\n",
    "Multi-passenger trips (2–5) form a smaller fraction overall, regardless of payment method.\n",
    "Practical Takeaway\n",
    "\n",
    "Taxis see a high reliance on card payments, especially for single-passenger rides.\n",
    "Cash transactions remain relevant, but they represent a smaller share, mostly single-passenger as well.\n",
    "This distribution highlights the convenience preference (card) and the rarity of larger group rides.\n"
   ]
  },
  {
   "cell_type": "markdown",
   "id": "7b46a312-3e19-49c4-8445-ec37c8ce35e5",
   "metadata": {},
   "source": [
    "## Hypotheses Testing"
   ]
  },
  {
   "cell_type": "markdown",
   "id": "c2dd9cbe-b2a5-4f25-bab5-df98855a33b3",
   "metadata": {},
   "source": [
    "### Objective:\n",
    "### To test whether there is a statistically significant difference in fare amounts between rides paid by card and rides paid by cash."
   ]
  },
  {
   "cell_type": "markdown",
   "id": "bb8deff6-e930-4ccb-a48b-853d8ba3c1fb",
   "metadata": {},
   "source": [
    "### Null Hypothesis: The mean fare is the same for both payment types (card vs. cash).\n",
    "\n",
    "### Alternative Hypothesis: The mean fare differs between the two payment types."
   ]
  },
  {
   "cell_type": "code",
   "execution_count": 78,
   "id": "5477cc38-422a-479a-ba2a-a4f7da153ab6",
   "metadata": {},
   "outputs": [
    {
     "data": {
      "image/png": "[encoded data removed]",
      "text/plain": [
       "<Figure size 640x480 with 1 Axes>"
      ]
     },
     "metadata": {},
     "output_type": "display_data"
    }
   ],
   "source": [
    "\n",
    "# 1. Seaborn style for a clean background\n",
    "sns.set_style(\"whitegrid\")\n",
    "\n",
    "# 2. Create the Q-Q plot figure\n",
    "fig = sm.qqplot(df['fare_amount'], line='45')\n",
    "\n",
    "# 3. Customize the plot\n",
    "ax = fig.axes[0]\n",
    "\n",
    "# The Q-Q plot typically has two line objects:\n",
    "#   - line[0]: the data points\n",
    "#   - line[1]: the 45° reference line\n",
    "# Depending on statsmodels version, the data might be a scatter object.\n",
    "\n",
    "# Try to color the data points in a taxi-yellow\n",
    "points = ax.get_lines()[0]\n",
    "points.set_markerfacecolor(\"#FFC300\")  # bright taxi yellow\n",
    "points.set_markeredgecolor(\"#FFC300\")\n",
    "\n",
    "# Optionally, change the reference line color to black or red\n",
    "ref_line = ax.get_lines()[1]\n",
    "ref_line.set_color(\"red\")\n",
    "ref_line.set_linewidth(1.5)\n",
    "\n",
    "# 4. Add a title & labels\n",
    "ax.set_title(\"Q-Q Plot of Fare Amount (Taxi-Themed)\", fontsize=14)\n",
    "ax.set_xlabel(\"Theoretical Quantiles\", fontsize=12)\n",
    "ax.set_ylabel(\"Sample Quantiles\", fontsize=12)\n",
    "\n",
    "plt.tight_layout()\n",
    "plt.show()\n"
   ]
  },
  {
   "cell_type": "markdown",
   "id": "07dfa01e-932a-4b5b-a0af-7881117f47c4",
   "metadata": {},
   "source": [
    "\n",
    "Q-Q Plot Purpose: Provides a formal visual check of normality beyond histograms.\n",
    "Points near the line suggest normality; large deviations (particularly in tails) indicate skewness or heavy tails.\n",
    "\n",
    "Statistical Test Recommendation:\n",
    "Since fare_amount is skewed and not normal, a two-sample t-test is not ideal (unless I log-transform this data).\n",
    "A nonparametric test like Mann–Whitney U (also known as Wilcoxon rank-sum) is more appropriate for comparing fare amounts between two groups (e.g., card vs. cash)."
   ]
  },
  {
   "cell_type": "markdown",
   "id": "7c2172fc-d892-4b62-95f6-11a334bdc229",
   "metadata": {},
   "source": [
    "### Methodology\n",
    "Since our fare data is highly skewed (as confirmed by our histograms and Q-Q plots), we opted for a nonparametric test. We used the Mann–Whitney U test because:\n",
    "\n",
    " It does not assume normality.\n",
    " It is appropriate for comparing two independent groups (card vs. cash)."
   ]
  },
  {
   "cell_type": "code",
   "execution_count": 89,
   "id": "1486fe8d-0803-4d4c-a771-72ea23fef67d",
   "metadata": {},
   "outputs": [
    {
     "name": "stdout",
     "output_type": "stream",
     "text": [
      "Mann–Whitney U Statistic: 211555609179.5\n",
      "p-value: 0.0\n",
      "Reject H0: There's a significant difference in the fare amounts between card & cash.\n"
     ]
    }
   ],
   "source": [
    "# 1. Extract fare data for each payment type\n",
    "card_fares = df.loc[df['payment_type'] == 'card', 'fare_amount'].dropna()\n",
    "cash_fares = df.loc[df['payment_type'] == 'cash', 'fare_amount'].dropna()\n",
    "\n",
    "# 2. Perform Mann–Whitney U test (two-sided)\n",
    "stat, p_value = mannwhitneyu(card_fares, cash_fares, alternative='two-sided')\n",
    "\n",
    "# 3. Significance level\n",
    "alpha = 0.05\n",
    "\n",
    "print(\"Mann–Whitney U Statistic:\", stat)\n",
    "print(\"p-value:\", p_value)\n",
    "\n",
    "if p_value < alpha:\n",
    "    print(\"Reject H0: There's a significant difference in the fare amounts between card & cash.\")\n",
    "else:\n",
    "    print(\"Fail to reject H0: No significant difference in fare amounts.\")\n"
   ]
  },
  {
   "cell_type": "markdown",
   "id": "2885b295-37f8-4a74-8220-7af70b7df403",
   "metadata": {},
   "source": [
    "#### Additionally, I computed the median fare for each group to understand the direction of any difference:"
   ]
  },
  {
   "cell_type": "code",
   "execution_count": 102,
   "id": "2faa00f8-dc5b-4906-a80a-d0edd41edaea",
   "metadata": {},
   "outputs": [
    {
     "name": "stdout",
     "output_type": "stream",
     "text": [
      "Median Fare (Card): 15.60\n",
      "Median Fare (Cash): 13.50\n"
     ]
    }
   ],
   "source": [
    "median_card = card_fares.median()\n",
    "median_cash = cash_fares.median()\n",
    "\n",
    "print(f\"Median Fare (Card): {median_card:.2f}\")\n",
    "print(f\"Median Fare (Cash): {median_cash:.2f}\")\n"
   ]
  },
  {
   "cell_type": "markdown",
   "id": "911b0651-e3e6-46db-85e7-3f966817ab84",
   "metadata": {},
   "source": [
    "#### Based on the results:\n",
    "median_card > median_cash: It suggests that rides paid by card tend to have higher fares.\n",
    "\n"
   ]
  },
  {
   "cell_type": "markdown",
   "id": "6f72b368-96ed-4536-8ba1-ff694b7e8d51",
   "metadata": {},
   "source": [
    "## Regression Analysis: Modeling Fare Amount Based on Trip Duration and Payment Type\n",
    "\n"
   ]
  },
  {
   "cell_type": "code",
   "execution_count": 102,
   "id": "94d94975-b3ba-4afe-a5f9-d193e687416c",
   "metadata": {},
   "outputs": [
    {
     "name": "stdout",
     "output_type": "stream",
     "text": [
      "                            OLS Regression Results                            \n",
      "==============================================================================\n",
      "Dep. Variable:            fare_amount   R-squared:                       0.693\n",
      "Model:                            OLS   Adj. R-squared:                  0.693\n",
      "Method:                 Least Squares   F-statistic:                 1.579e+06\n",
      "Date:                Sun, 02 Mar 2025   Prob (F-statistic):               0.00\n",
      "Time:                        18:44:04   Log-Likelihood:            -4.1068e+06\n",
      "No. Observations:             1396856   AIC:                         8.214e+06\n",
      "Df Residuals:                 1396853   BIC:                         8.214e+06\n",
      "Df Model:                           2                                         \n",
      "Covariance Type:            nonrobust                                         \n",
      "===========================================================================================\n",
      "                              coef    std err          t      P>|t|      [0.025      0.975]\n",
      "-------------------------------------------------------------------------------------------\n",
      "Intercept                   2.8773      0.009    304.508      0.000       2.859       2.896\n",
      "C(payment_type)[T.cash]    -0.2782      0.009    -30.516      0.000      -0.296      -0.260\n",
      "Duration                    0.9755      0.001   1758.636      0.000       0.974       0.977\n",
      "==============================================================================\n",
      "Omnibus:                   482601.046   Durbin-Watson:                   1.678\n",
      "Prob(Omnibus):                  0.000   Jarque-Bera (JB):          1737563.933\n",
      "Skew:                           1.739   Prob(JB):                         0.00\n",
      "Kurtosis:                       7.214   Cond. No.                         44.9\n",
      "==============================================================================\n",
      "\n",
      "Notes:\n",
      "[1] Standard Errors assume that the covariance matrix of the errors is correctly specified.\n"
     ]
    }
   ],
   "source": [
    "import statsmodels.formula.api as smf\n",
    "# linear regression formula: \n",
    "model = smf.ols(\"fare_amount ~ Duration + C(payment_type)\", data=df).fit()\n",
    "print(model.summary())\n"
   ]
  },
  {
   "cell_type": "markdown",
   "id": "9ae33776-1e79-40f6-85fe-56582f383c31",
   "metadata": {},
   "source": [
    "### Conclusion\n",
    " linear regression suggests:\n",
    "\n",
    "Trip Duration is the biggest driver of fare (\n",
    "≈\n",
    "$\n",
    "0.98\n",
    "≈$0.98 per minute).\n",
    "\n",
    "Cash rides are $0.28 cheaper than card rides, on average, controlling for duration."
   ]
  },
  {
   "cell_type": "markdown",
   "id": "683005f4-d1c8-46b3-a7c3-8f88d51acc7f",
   "metadata": {},
   "source": [
    "### Model Overview\n",
    "In a regression model, I predict fare_amount using two predictors:\n",
    "\n",
    "#### Duration: The trip duration (in minutes)\n",
    "#### Payment Type: Categorical variable (card vs. cash)—where the model includes a dummy variable for cash rides.\n",
    "#### The model’s output shows:\n",
    "\n",
    "#### Intercept:\n",
    "$2.88 (the estimated fare for a card ride when Duration = 0).\n",
    "\n",
    "#### Coefficient for Duration (0.9755):\n",
    "For every additional minute of the ride, the fare increases by roughly $0.98.\n",
    "\n",
    "Coefficient for Payment Type [Cash] (-0.2782): Controlling for trip duration, rides where cash is used tend to have fares that are, on average, $0.28 lower than those where a card is used.\n",
    "\n",
    "#### What Does \"Controlling for Duration\" Mean?\n",
    "It means that when comparing two trips of equal duration, the trip paid by cash is estimated to be $0.28 cheaper than the one paid by card. This is an average effect found by the model, not a direct measurement of frequency. So even if cash rides have a lower fare on average, if card rides occur much more frequently (which your univariate analyses indicate), then overall revenue might still be driven by card transactions.\n",
    "\n",
    "### Model Performance\n",
    "R-squared: About 0.693, which means roughly 69% of the variance in fare_amount is explained by trip duration and payment type.\n",
    "Statistical Significance: The predictors (duration and payment type) are highly significant, suggesting these are important factors.\n"
   ]
  },
  {
   "cell_type": "markdown",
   "id": "1ff92210-b9ed-474a-8fb3-38880136a5f5",
   "metadata": {},
   "source": [
    "### Limitations & Suggestions\n",
    "Residual Non-Normality:\n",
    "The Q-Q plot indicates that the residuals from the regression model are not normally distributed. In future analyses, consider applying a transformation (e.g., log-transforming fare_amount) or using robust regression techniques to better handle the skewed data.\n",
    "\n",
    "Additional Predictors:\n",
    "While the current model includes Duration and Payment Type, incorporating further predictors—such as trip_distance, time-of-day, or passenger_count—could refine the model and provide deeper insights into the factors influencing fare amounts."
   ]
  },
  {
   "cell_type": "markdown",
   "id": "f90c6601-117f-4907-943b-1299d370af83",
   "metadata": {},
   "source": [
    "# Recommendation\n",
    "Based on our comprehensive analysis—including hypothesis testing and regression modeling—we observe the following:\n",
    "\n",
    "Hypothesis Testing Results:\n",
    "Our Mann–Whitney U test indicated that the difference in fare amounts between card and cash payments is statistically significant. This confirms that the observed difference is unlikely due to chance.\n",
    "\n",
    "Regression Analysis Findings:\n",
    "The regression model shows that, controlling for trip duration, cash rides are on average about $0.28 cheaper than card rides. Furthermore, the model’s high R-squared suggests that factors like trip duration and payment type play a substantial role in determining fare amounts.\n",
    "\n",
    "## Actionable Recommendations:\n",
    "\n",
    "### Incentivize Card Payments:\n",
    "\n",
    "Given that card payments are associated with higher fares and are used overwhelmingly in the dataset, the company should consider promoting cashless transactions through loyalty programs, targeted promotions, or small discounts on digital payments.\n",
    "\n",
    "### Further Analyze Ride Characteristics:\n",
    "\n",
    "Investigate additional variables such as trip distance, time-of-day, and passenger count to understand if card rides are linked to longer trips or occur during peak times, which could explain the higher fares.\n",
    "\n",
    "### Invest in Digital Infrastructure:\n",
    "\n",
    "With the majority of rides using card payments, enhancing digital transaction systems could improve operational efficiency and customer satisfaction, leading to long-term revenue growth.\n",
    "\n",
    "#### In summary, both our hypothesis testing and regression analysis support the strategy of promoting card payments as a means to boost revenue. This targeted approach, combined with further exploration of ride characteristics, can help the taxi company optimize pricing and service delivery."
   ]
  },
  {
   "cell_type": "code",
   "execution_count": null,
   "id": "df7fd271-4b10-44ec-a1b8-05a84537e02a",
   "metadata": {},
   "outputs": [],
   "source": []
  }
 ],
 "metadata": {
  "kernelspec": {
   "display_name": "Python [conda env:base] *",
   "language": "python",
   "name": "conda-base-py"
  },
  "language_info": {
   "codemirror_mode": {
    "name": "ipython",
    "version": 3
   },
   "file_extension": ".py",
   "mimetype": "text/x-python",
   "name": "python",
   "nbconvert_exporter": "python",
   "pygments_lexer": "ipython3",
   "version": "3.12.3"
  }
 },
 "nbformat": 4,
 "nbformat_minor": 5
}
